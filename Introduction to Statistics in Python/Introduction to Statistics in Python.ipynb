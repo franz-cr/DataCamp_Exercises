{
 "cells": [
  {
   "cell_type": "markdown",
   "id": "715f6938-af6e-4eb6-885b-1d1d3e708e9f",
   "metadata": {},
   "source": [
    "# Introduction to Statistics in Python\n",
    "\n",
    "[WWW Schools: Random Numbers and Distributions in Numpy](https://www.w3schools.com/python/numpy/numpy_random.asp)"
   ]
  },
  {
   "cell_type": "markdown",
   "id": "1877bbd4-5c11-45b3-90af-8a74a37af41c",
   "metadata": {},
   "source": [
    "## Summary Statistics"
   ]
  },
  {
   "cell_type": "markdown",
   "id": "f75af71f-d5ae-4a98-be96-df3004f28337",
   "metadata": {},
   "source": [
    "**Mean and median**\n",
    "In this chapter, you'll be working with the food_consumption dataset from 2018 Food Carbon Footprint Index by nu3. The food_consumption dataset contains the number of kilograms of food consumed per person per year in each country and food category (consumption), and its carbon footprint (co2_emissions) measured in kilograms of carbon dioxide, or CO2.\n",
    "\n",
    "In this exercise, you'll compute measures of center to compare food consumption in the US and Belgium using your pandas and numpy skills."
   ]
  },
  {
   "cell_type": "code",
   "execution_count": 2,
   "id": "f1172261-24f8-46a6-b030-e82808c59c88",
   "metadata": {},
   "outputs": [
    {
     "name": "stdout",
     "output_type": "stream",
     "text": [
      "Consumption in USA: 44.650000000000006\n",
      "Consumption in USA: 14.58\n"
     ]
    }
   ],
   "source": [
    "# Import numpy with alias np\n",
    "import numpy as np\n",
    "import pandas as pd\n",
    "\n",
    "# Importing the course datasets\n",
    "food_consumption = pd.read_csv(\"food_consumption.csv\")\n",
    "\n",
    "# Subset country for USA: usa_consumption\n",
    "usa_consumption = food_consumption[food_consumption.country == 'USA']\n",
    "\n",
    "# Calculate mean consumption in USA\n",
    "print('Consumption in USA:',\n",
    "        usa_consumption.consumption.mean())\n",
    "\n",
    "# Calculate median consumption in USA\n",
    "print('Consumption in USA:',\n",
    "        usa_consumption.consumption.median())"
   ]
  },
  {
   "cell_type": "markdown",
   "id": "7d091802-1706-4879-ae6c-f148fd9d07a1",
   "metadata": {},
   "source": [
    "**Mean vs. median**\n",
    "In the video, you learned that the mean is the sum of all the data points divided by the total number of data points, and the median is the middle value of the dataset where 50% of the data is less than the median, and 50% of the data is greater than the median. In this exercise, you'll compare these two measures of center."
   ]
  },
  {
   "cell_type": "code",
   "execution_count": 3,
   "id": "7096c1dc-1968-46e2-9289-083a1f4cf708",
   "metadata": {},
   "outputs": [
    {
     "data": {
      "image/png": "[encoded data removed]",
      "text/plain": [
       "<Figure size 640x480 with 1 Axes>"
      ]
     },
     "metadata": {},
     "output_type": "display_data"
    },
    {
     "name": "stdout",
     "output_type": "stream",
     "text": [
      "mean      37.591615\n",
      "median    15.200000\n",
      "Name: co2_emission, dtype: float64\n"
     ]
    }
   ],
   "source": [
    "# Import matplotlib.pyplot with alias plt\n",
    "import matplotlib.pyplot as plt\n",
    "\n",
    "# Subset for food_category equals rice\n",
    "rice_consumption = food_consumption[food_consumption.food_category == 'rice']\n",
    "\n",
    "# Histogram of co2_emission for rice and show plot\n",
    "#rice_consumption.hist(\n",
    "#    rice_consumption.co2_emission)\n",
    "plt.hist(rice_consumption.co2_emission)\n",
    "plt.show()\n",
    "\n",
    "# Calculate mean and median of co2_emission with .agg()\n",
    "print(rice_consumption.co2_emission.agg(['mean','median']))"
   ]
  },
  {
   "cell_type": "markdown",
   "id": "48eeb571-67bb-4eed-9965-1838615550ca",
   "metadata": {},
   "source": [
    "## Random Numbers and Probability\n",
    "\n",
    "In this chapter, you'll learn how to generate random samples and measure chance using probability. You'll work with real-world sales data to calculate the probability of a salesperson being successful. Finally, you’ll use the binomial distribution to model events with binary outcomes."
   ]
  },
  {
   "cell_type": "markdown",
   "id": "c901f705-e8eb-4e37-b076-d1c3ff8d4779",
   "metadata": {},
   "source": [
    "**Calculating probabilities**\n",
    "You're in charge of the sales team, and it's time for performance reviews, starting with Amir. As part of the review, you want to randomly select a few of the deals that he's worked on over the past year so that you can look at them more deeply. Before you start selecting deals, you'll first figure out what the chances are of selecting certain deals.\n",
    "\n",
    "Recall that the probability of an event can be calculated by:\n",
    "$$\n",
    "  P_{event} = \\frac{Ways\\,event\\,can\\,happen}{Total\\,possible\\,outcomes}\n",
    "$$"
   ]
  },
  {
   "cell_type": "code",
   "execution_count": 4,
   "id": "48f69983-8187-431c-b325-ce9badc4a402",
   "metadata": {},
   "outputs": [
    {
     "data": {
      "text/html": [
       "<div>\n",
       "<style scoped>\n",
       "    .dataframe tbody tr th:only-of-type {\n",
       "        vertical-align: middle;\n",
       "    }\n",
       "\n",
       "    .dataframe tbody tr th {\n",
       "        vertical-align: top;\n",
       "    }\n",
       "\n",
       "    .dataframe thead th {\n",
       "        text-align: right;\n",
       "    }\n",
       "</style>\n",
       "<table border=\"1\" class=\"dataframe\">\n",
       "  <thead>\n",
       "    <tr style=\"text-align: right;\">\n",
       "      <th></th>\n",
       "      <th>Unnamed: 0</th>\n",
       "      <th>product</th>\n",
       "      <th>client</th>\n",
       "      <th>status</th>\n",
       "      <th>amount</th>\n",
       "      <th>num_users</th>\n",
       "    </tr>\n",
       "  </thead>\n",
       "  <tbody>\n",
       "    <tr>\n",
       "      <th>76</th>\n",
       "      <td>77</td>\n",
       "      <td>Product B</td>\n",
       "      <td>Current</td>\n",
       "      <td>Won</td>\n",
       "      <td>3950.94</td>\n",
       "      <td>39</td>\n",
       "    </tr>\n",
       "    <tr>\n",
       "      <th>0</th>\n",
       "      <td>1</td>\n",
       "      <td>Product F</td>\n",
       "      <td>Current</td>\n",
       "      <td>Won</td>\n",
       "      <td>7389.52</td>\n",
       "      <td>19</td>\n",
       "    </tr>\n",
       "    <tr>\n",
       "      <th>18</th>\n",
       "      <td>19</td>\n",
       "      <td>Product A</td>\n",
       "      <td>Current</td>\n",
       "      <td>Won</td>\n",
       "      <td>9913.27</td>\n",
       "      <td>34</td>\n",
       "    </tr>\n",
       "    <tr>\n",
       "      <th>24</th>\n",
       "      <td>25</td>\n",
       "      <td>Product B</td>\n",
       "      <td>New</td>\n",
       "      <td>Lost</td>\n",
       "      <td>3124.62</td>\n",
       "      <td>31</td>\n",
       "    </tr>\n",
       "    <tr>\n",
       "      <th>141</th>\n",
       "      <td>142</td>\n",
       "      <td>Product B</td>\n",
       "      <td>Current</td>\n",
       "      <td>Won</td>\n",
       "      <td>4795.64</td>\n",
       "      <td>8</td>\n",
       "    </tr>\n",
       "    <tr>\n",
       "      <th>89</th>\n",
       "      <td>90</td>\n",
       "      <td>Product B</td>\n",
       "      <td>Current</td>\n",
       "      <td>Won</td>\n",
       "      <td>3231.52</td>\n",
       "      <td>65</td>\n",
       "    </tr>\n",
       "    <tr>\n",
       "      <th>138</th>\n",
       "      <td>139</td>\n",
       "      <td>Product C</td>\n",
       "      <td>Current</td>\n",
       "      <td>Won</td>\n",
       "      <td>-539.23</td>\n",
       "      <td>11</td>\n",
       "    </tr>\n",
       "    <tr>\n",
       "      <th>88</th>\n",
       "      <td>89</td>\n",
       "      <td>Product B</td>\n",
       "      <td>Current</td>\n",
       "      <td>Won</td>\n",
       "      <td>5276.01</td>\n",
       "      <td>82</td>\n",
       "    </tr>\n",
       "  </tbody>\n",
       "</table>\n",
       "</div>"
      ],
      "text/plain": [
       "     Unnamed: 0    product   client status   amount  num_users\n",
       "76           77  Product B  Current    Won  3950.94         39\n",
       "0             1  Product F  Current    Won  7389.52         19\n",
       "18           19  Product A  Current    Won  9913.27         34\n",
       "24           25  Product B      New   Lost  3124.62         31\n",
       "141         142  Product B  Current    Won  4795.64          8\n",
       "89           90  Product B  Current    Won  3231.52         65\n",
       "138         139  Product C  Current    Won  -539.23         11\n",
       "88           89  Product B  Current    Won  5276.01         82"
      ]
     },
     "execution_count": 4,
     "metadata": {},
     "output_type": "execute_result"
    }
   ],
   "source": [
    "import numpy as np\n",
    "import pandas as pd\n",
    "\n",
    "# Importing the course datasets\n",
    "amir_deals = pd.read_csv(\"amir_deals.csv\")\n",
    "\n",
    "amir_deals.sample(8)"
   ]
  },
  {
   "cell_type": "code",
   "execution_count": 7,
   "id": "53330ed7-b313-4ed8-bdc0-635835574cff",
   "metadata": {},
   "outputs": [
    {
     "name": "stdout",
     "output_type": "stream",
     "text": [
      "product\n",
      "Product B    62\n",
      "Product D    40\n",
      "Product A    23\n",
      "Product C    15\n",
      "Product F    11\n",
      "Product H     8\n",
      "Product I     7\n",
      "Product E     5\n",
      "Product N     3\n",
      "Product G     2\n",
      "Product J     2\n",
      "Name: count, dtype: int64 \n",
      "\n",
      "product\n",
      "Product B    34.831461\n",
      "Product D    22.471910\n",
      "Product A    12.921348\n",
      "Product C     8.426966\n",
      "Product F     6.179775\n",
      "Product H     4.494382\n",
      "Product I     3.932584\n",
      "Product E     2.808989\n",
      "Product N     1.685393\n",
      "Product G     1.123596\n",
      "Product J     1.123596\n",
      "Name: count, dtype: float64\n"
     ]
    }
   ],
   "source": [
    "# Count the deals for each product\n",
    "counts = amir_deals['product'].value_counts()\n",
    "\n",
    "print(counts,'\\n')\n",
    "# Calculate probability of picking a deal with each product\n",
    "probs = 100 * amir_deals['product'].value_counts() / amir_deals['product'].value_counts().values.sum()\n",
    "print(probs)"
   ]
  },
  {
   "cell_type": "markdown",
   "id": "aeed8cdc-63a1-46df-8717-3707af2df07a",
   "metadata": {},
   "source": [
    "**Sampling deals**\n",
    "In the previous exercise, you counted the deals Amir worked on. Now it's time to randomly pick five deals so that you can reach out to each customer and ask if they were satisfied with the service they received. You'll try doing this both with and without replacement.\n",
    "\n",
    "Additionally, you want to make sure this is done randomly and that it can be reproduced in case you get asked how you chose the deals, so you'll need to set the random seed before sampling from the deals."
   ]
  },
  {
   "cell_type": "code",
   "execution_count": null,
   "id": "b6d93296-259a-42d2-981b-1e02b1863d83",
   "metadata": {},
   "outputs": [],
   "source": [
    "# Set random seed\n",
    "np.random.seed(24)\n",
    "\n",
    "# Sample 5 deals without replacement\n",
    "sample_without_replacement = amir_deals.sample(5)\n",
    "print(sample_without_replacement)\n",
    "\n",
    "# Sample 5 deals with replacement\n",
    "sample_with_replacement = amir_deals.sample(5,replace=True)\n",
    "print(sample_with_replacement)"
   ]
  },
  {
   "cell_type": "markdown",
   "id": "b0ac0df8-8e2a-4152-8daa-0dbbbb47f77d",
   "metadata": {},
   "source": [
    "### Discrete Distribution\n",
    "\n",
    "**Creating a probability distribution**\n",
    "A new restaurant opened a few months ago, and the restaurant's management wants to optimize its seating space based on the size of the groups that come most often. On one night, there are 10 groups of people waiting to be seated at the restaurant, but instead of being called in the order they arrived, they will be called randomly. In this exercise, you'll investigate the probability of groups of different sizes getting picked first. Data on each of the ten groups is contained in the restaurant_groups DataFrame.\n",
    "\n",
    "Remember that expected value can be calculated by multiplying each possible outcome with its corresponding probability and taking the sum. The restaurant_groups data is available. pandas is loaded as pd, numpy is loaded as np, and matplotlib.pyplot is loaded as plt."
   ]
  },
  {
   "cell_type": "code",
   "execution_count": 4,
   "id": "8b5b06d1-227d-461d-8cc9-51c5f62336e0",
   "metadata": {},
   "outputs": [
    {
     "data": {
      "text/plain": [
       "'restaurant_groups\\n  group_id  group_size\\n0        A           2\\n1        B           4\\n2        C           6\\n3        D           2\\n4        E           2\\n5        F           2\\n6        G           3\\n7        H           2\\n8        I           4\\n9        J           2\\n'"
      ]
     },
     "execution_count": 4,
     "metadata": {},
     "output_type": "execute_result"
    }
   ],
   "source": [
    "import numpy as np\n",
    "import pandas as pd\n",
    "import matplotlib.pyplot as plt\n",
    "\n",
    "data = {\n",
    "    \"group_id\" : [\"A\",\"B\",\"C\",\"D\",\"E\",\"F\",\"G\",\"H\",\"I\",\"J\"],\n",
    "    \"group_size\" : [2,4,6,2,2,2,3,2,4,2]\n",
    "}\n",
    "restaurant_groups = pd.DataFrame(data)"
   ]
  },
  {
   "cell_type": "code",
   "execution_count": 5,
   "id": "640473ca-026b-4077-8790-3604774d11f9",
   "metadata": {},
   "outputs": [
    {
     "data": {
      "image/png": "[encoded data removed]",
      "text/plain": [
       "<Figure size 640x480 with 1 Axes>"
      ]
     },
     "metadata": {},
     "output_type": "display_data"
    }
   ],
   "source": [
    "# Create a histogram of restaurant_groups and show plot\n",
    "restaurant_groups['group_size'].hist(bins=[2, 3, 4, 5, 6])\n",
    "plt.show()"
   ]
  },
  {
   "cell_type": "code",
   "execution_count": 6,
   "id": "00a40a99-04bd-4e97-8991-736b173ffb01",
   "metadata": {},
   "outputs": [
    {
     "name": "stdout",
     "output_type": "stream",
     "text": [
      "Series([], Name: prob, dtype: float64)\n",
      "0.30000000000000004\n"
     ]
    }
   ],
   "source": [
    "# Create probability distribution\n",
    "size_dist = restaurant_groups['group_size'].value_counts() / restaurant_groups.shape[0]\n",
    "\n",
    "# Reset index and rename columns\n",
    "size_dist = size_dist.reset_index()\n",
    "size_dist.columns = ['group_size', 'prob']\n",
    "\n",
    "# Expected value\n",
    "expected_value = np.sum(size_dist['group_size'] * size_dist['prob'])\n",
    "\n",
    "# Subset groups of size 4 or more\n",
    "groups_4_or_more = size_dist.prob[size_dist.prob >= 4]\n",
    "print(groups_4_or_more)\n",
    "\n",
    "# Sum the probabilities of groups_4_or_more\n",
    "prob_4_or_more = 0.30000000000000004 #np.sum(groups_4_or_more)\n",
    "print(prob_4_or_more)"
   ]
  },
  {
   "cell_type": "markdown",
   "id": "f7592566-7fdc-4e19-9789-c3dde17708c7",
   "metadata": {},
   "source": [
    "### Continuous Distribution\n",
    "\n",
    "**Data back-ups**\n",
    "\n",
    "The sales software used at your company is set to automatically back itself up, but no one knows exactly what time the back-ups happen. It is known, however, that back-ups happen exactly every 30 minutes. Amir comes back from sales meetings at random times to update the data on the client he just met with. He wants to know how long he'll have to wait for his newly-entered data to get backed up. Use your new knowledge of continuous uniform distributions to model this situation and answer Amir's questions."
   ]
  },
  {
   "cell_type": "code",
   "execution_count": 9,
   "id": "40db654c-76b4-4275-9f78-d7f1c3b60ad2",
   "metadata": {},
   "outputs": [
    {
     "name": "stdout",
     "output_type": "stream",
     "text": [
      "Probability\n",
      "p < 5:       0.16666666666666666\n",
      "p > 5:       0.8333333333333334\n",
      "10 < p < 20: 0.3333333333333333\n"
     ]
    }
   ],
   "source": [
    "# Min and max wait times for back-up that happens every 30 min\n",
    "min_time = 0\n",
    "max_time = 30\n",
    "\n",
    "# Import uniform from scipy.stats\n",
    "from scipy.stats import uniform\n",
    "\n",
    "# Calculate probability of waiting less than 5 mins\n",
    "prob_less_than_5 = uniform.cdf(5,0,30)\n",
    "print('Probability')\n",
    "print('p < 5:      ',prob_less_than_5)\n",
    "\n",
    "# Calculate probability of waiting more than 5 mins\n",
    "prob_greater_than_5 = 1 - uniform.cdf(5,0,30)\n",
    "print('p > 5:      ',prob_greater_than_5)\n",
    "\n",
    "# Calculate probability of waiting 10-20 mins\n",
    "prob_between_10_and_20 = uniform.cdf(20,0,30) - uniform.cdf(10,0,30)\n",
    "print('10 < p < 20:',prob_between_10_and_20)"
   ]
  },
  {
   "cell_type": "markdown",
   "id": "1a72394c-a586-4b54-9291-f14d6090aebb",
   "metadata": {},
   "source": [
    "**Simulating wait times**\n",
    "\n",
    "To give Amir a better idea of how long he'll have to wait, you'll simulate Amir waiting 1000 times and create a histogram to show him what he should expect. Recall from the last exercise that his minimum wait time is 0 minutes and his maximum wait time is 30 minutes."
   ]
  },
  {
   "cell_type": "code",
   "execution_count": 11,
   "id": "d3da6a89-4279-4ff6-a889-0f9820e261d2",
   "metadata": {},
   "outputs": [
    {
     "data": {
      "image/png": "[encoded data removed]",
      "text/plain": [
       "<Figure size 640x480 with 1 Axes>"
      ]
     },
     "metadata": {},
     "output_type": "display_data"
    }
   ],
   "source": [
    "# Set random seed to 334\n",
    "np.random.seed(334)\n",
    "\n",
    "# Import uniform\n",
    "from scipy.stats import uniform\n",
    "\n",
    "# Generate 1000 wait times between 0 and 30 mins\n",
    "wait_times = uniform.rvs(0,30,1000)\n",
    "\n",
    "#print(wait_times)\n",
    "\n",
    "# Create a histogram of simulated times and show plot\n",
    "plt.hist(wait_times)\n",
    "plt.show()"
   ]
  },
  {
   "cell_type": "markdown",
   "id": "2b99ebd5-628f-40e4-9668-e3a0d293ee30",
   "metadata": {},
   "source": [
    "### The Binomial Distribution\n",
    "\n",
    "**Simulating sales deals**\n",
    "Assume that Amir usually works on 3 deals per week, and overall, he wins 30% of deals he works on. Each deal has a binary outcome: it's either lost, or won, so you can model his sales deals with a binomial distribution. In this exercise, you'll help Amir simulate a year's worth of his deals so he can better understand his performance.\n",
    "numpy is imported as np."
   ]
  },
  {
   "cell_type": "code",
   "execution_count": 3,
   "id": "6b9f4d70-76f5-42d7-9ad3-4ed325ddab61",
   "metadata": {},
   "outputs": [
    {
     "name": "stdout",
     "output_type": "stream",
     "text": [
      "[1]\n",
      "[0]\n",
      "[1 1 1 0 0 1 0 0 1 2 0 1 2 1 1 0 2 1 1 0 1 1 1 1 1 1 1 1 2 1 2 0 0 0 0 2 0\n",
      " 1 1 2 0 2 1 1 0 2 0 0 1 0 2 0]\n",
      "0.8461538461538461\n"
     ]
    }
   ],
   "source": [
    "import numpy as np\n",
    "\n",
    "# Import binom from scipy.stats\n",
    "from scipy.stats import binom\n",
    "\n",
    "# Set random seed to 10\n",
    "np.random.seed(10)\n",
    "\n",
    "# Simulate a single deal\n",
    "print(binom.rvs(1, 0.3, size=1))\n",
    "\n",
    "# Simulate 1 week of 3 deals\n",
    "print(binom.rvs(3, 0.3, size=1))\n",
    "\n",
    "# Simulate 52 weeks of 3 deals\n",
    "deals = binom.rvs(3 , 0.3, size=52)\n",
    "\n",
    "print(deals)\n",
    "\n",
    "# Print mean deals won per week\n",
    "print(np.mean(deals))"
   ]
  },
  {
   "cell_type": "markdown",
   "id": "2faafed4-124b-4085-9c58-008e7637e0cc",
   "metadata": {},
   "source": [
    "**Calculating binomial probabilities**\n",
    "Just as in the last exercise, assume that Amir wins 30% of deals. He wants to get an idea of how likely he is to close a certain number of deals each week. In this exercise, you'll calculate what the chances are of him closing different numbers of deals using the binomial distribution."
   ]
  },
  {
   "cell_type": "code",
   "execution_count": 2,
   "id": "f0fc8870-599a-4064-8b1b-be8545cf6d5c",
   "metadata": {},
   "outputs": [
    {
     "name": "stdout",
     "output_type": "stream",
     "text": [
      "0.027\n",
      "0.784\n",
      "0.21599999999999997\n"
     ]
    }
   ],
   "source": [
    "import numpy as np\n",
    "import pandas as pd\n",
    "# Import binom from scipy.stats\n",
    "from scipy.stats import binom\n",
    "\n",
    "# Probability of closing 3 out of 3 deals\n",
    "# pmf(# of successes, # of trials, probability of success)\n",
    "prob_3 = binom.pmf(3,3,0.3)\n",
    "\n",
    "print(prob_3)\n",
    "\n",
    "# Probability of closing <= 1 deal out of 3 deals\n",
    "# cdf: accumulated probabilty\n",
    "prob_less_than_or_equal_1 = binom.cdf(1,3,0.3)\n",
    "\n",
    "print(prob_less_than_or_equal_1)\n",
    "\n",
    "# Probability of closing > 1 deal out of 3 deals\n",
    "prob_greater_than_1 = 1 - binom.cdf(1,3,0.3)\n",
    "\n",
    "print(prob_greater_than_1)"
   ]
  },
  {
   "cell_type": "markdown",
   "id": "80815593-2d58-4163-bbae-6ffe8bc9c5a2",
   "metadata": {},
   "source": [
    "**How many sales will be won?**\n",
    "\n",
    "Now Amir wants to know how many deals he can expect to close each week if his win \n",
    "rate changes. Luckily, you can use your binomial distribution knowledge to help \n",
    "him calculate the expected value in different situations. Recall from the video \n",
    "that the expected value of a binomial distribution can be calculated by: \n",
    "\n",
    "$$\n",
    "  P\\,_{Probability\\,of\\,success} = n\\,_{Number\\,of\\,trials}\\,X\\,p\\,_{The\\,probability\\,of\\,single\\,success}\n",
    "$$\n",
    "\n",
    "- Calculate the expected number of sales out of the 3 he works on that Amir will win each week if he maintains his 30% win rate.\n",
    "- Calculate the expected number of sales out of the 3 he works on that he'll win if his win rate drops to 25%.\n",
    "- Calculate the expected number of sales out of the 3 he works on that he'll win if his win rate rises to 35%."
   ]
  },
  {
   "cell_type": "code",
   "execution_count": 1,
   "id": "e166e566-5432-40d0-8cbc-a6d7acb342cd",
   "metadata": {},
   "outputs": [
    {
     "name": "stdout",
     "output_type": "stream",
     "text": [
      "0.8999999999999999\n",
      "0.75\n",
      "1.0499999999999998\n"
     ]
    }
   ],
   "source": [
    "import numpy as np\n",
    "import pandas as pd\n",
    "# Import binom from scipy.stats\n",
    "from scipy.stats import binom\n",
    "\n",
    "# Expected number won with 30% win rate\n",
    "won_30pct = 3 * 0.3\n",
    "print(won_30pct)\n",
    "\n",
    "# Expected number won with 25% win rate\n",
    "won_25pct = 3 * 0.25\n",
    "print(won_25pct)\n",
    "\n",
    "# Expected number won with 35% win rate\n",
    "won_35pct = 3 * 0.35\n",
    "print(won_35pct)"
   ]
  },
  {
   "cell_type": "markdown",
   "id": "b52629a1-b47e-4901-b98d-1ff79079ecda",
   "metadata": {},
   "source": [
    "## More Distributions and the Central Limit Theorem\n",
    "\n",
    "It’s time to explore one of the most important probability distributions in statistics, normal distribution. You’ll create histograms to plot normal distributions and gain an understanding of the central limit theorem, before expanding your knowledge of statistical functions by adding the Poisson, exponential, and t-distributions to your repertoire."
   ]
  },
  {
   "cell_type": "markdown",
   "id": "2ef25dfa-af99-4a5e-b75b-0dfb67cefe1b",
   "metadata": {},
   "source": [
    "### The Normal Distribution\n",
    "\n",
    "The next probability distribution we'll discuss is the normal distribution. It's one of the most important probability distributions you'll learn about since a countless number of statistical methods rely on it, and it applies to more real-world situations than the distributions we've covered so far.\n",
    "\n",
    "**What is the normal distribution?**\n",
    "\n",
    "Its shape is commonly referred to as a *\"bell curve\"*. The normal distribution has a few important properties.\n",
    "1. Symmetrical: First, it's symmetrical, so the left side is a mirror image of the right.\n",
    "2. Area = 1. Second, just like any continuous distribution, the area beneath the curve is 1.\n",
    "3. Curve never hits 0: Second, the probability never hits 0, even if it looks like it does at the tail ends. Only 0-point-006% of its area is contained beyond the edges of this graph.\n",
    "4. Described by mean and standard deviation: The normal distribution is described by its mean and standard deviation. Here is a normal distribution with a mean of 20 and standard deviation of 3, and here is a normal distribution with a mean of 0 and a standard deviation of 1. When a normal distribution has mean 0 and a standard deviation of 1, it's a special distribution called the **standard normal distribution**. Notice how both distributions have the same shape, but their axes have different scales.\n",
    "5. Areas under the normal distribution: For the normal distribution,\n",
    "   - 68% of the area is within 1 standard deviation of the mean.\n",
    "   - 95% of the area falls within 2 standard deviations of the mean, and\n",
    "   - 99.7% of the area falls within three standard deviations. This is sometimes called the 68-95-99-point-7 rule.\n",
    "6. Lots of histograms look normal: There's lots of real-world data shaped like the normal distribution. For example, a histogram of the heights of women that participated in the National Health and Nutrition Examination Survey. The mean height is around 161 centimeters and the standard deviation is about 7 centimeters. Since this height data closely resembles the normal distribution, we can take the area under a normal distribution with mean 161 and standard deviation 7 to approximate what percent of women fall into different height ranges.\n",
    "\n",
    "    - What percent of women are shorter than 154 cm? For example, what percent of women are shorter than 154 centimeters? We can answer this using `norm-dot-cdf from scipy-dot-stats`, which takes the area of the normal distribution less than some number. We pass in the number of interest, 154, followed by the mean and standard deviation of the normal distribution we're using, `norm.cdf((154, 161, 7) = 0.1586`. This gives us about 16% of women are shorter than 154 centimeters.\n",
    "    - What percent of women are taller than 154 cm? To find the percent of women taller than 154 centimeters, we can take 1 minus the area on the left of 154, which equals the area to the right of 154, `1 - norm.cdf((154, 161, 7) = 0.8414`.\n",
    "    - What percent of women are 154-157 cm? To get the percent of women between 154 and 157 centimeters tall we can take the area below 157 and subtract the area below 154, which leaves us the area between 154 and 157, `norm.cdf(157, 161, 7) - norm.cdf(154, 161, 7) = 0.1252`.\n",
    "    - What height are 90% of women shorter than? We can also calculate percentages from heights using `norm-dot-ppf`. To figure out what height 90% of women are shorter than, we pass 0.9 into `norm-dot-ppf` along with the same mean and standard deviation we've been working with, `norm.ppf((0.9), 161, 7) = 169.97`. This tells us that 90% of women are shorter than 170 centimeters tall.\n",
    "    - What height are 90% of women taller than? We can figure out the height 90% of women are taller than, since this is also the height that 10% of women are shorter than. We can take 1 minus 0.9 to get 0.1, which we'll use as the first argument of `norm.ppf((1-0.9), 161, 7) = 152.029`.\n",
    "7. Generating random numbers: Just like with other distributions, we can generate random numbers from a normal distribution using `norm-dot-rvs`, passing in the distribution's mean and standard deviation, as well as the sample size we want.\n",
    "\n",
    "\n",
    "**Distribution of Amir's sales**\n",
    "\n",
    "Since each deal Amir worked on (both won and lost) was different, each was worth a different amount of money. These values are stored in the amount column of amir_deals As part of Amir's performance review, you want to be able to estimate the probability of him selling different amounts, but before you can do this, you'll need to determine what kind of distribution the amount variable follows."
   ]
  },
  {
   "cell_type": "code",
   "execution_count": 1,
   "id": "1690ea22-e337-4c90-8928-2353e565eb0b",
   "metadata": {},
   "outputs": [
    {
     "data": {
      "image/png": "[encoded data removed]",
      "text/plain": [
       "<Figure size 640x480 with 1 Axes>"
      ]
     },
     "metadata": {},
     "output_type": "display_data"
    }
   ],
   "source": [
    "import numpy as np\n",
    "import pandas as pd\n",
    "import matplotlib.pyplot as plt\n",
    "\n",
    "# Importing the course datasets\n",
    "amir_deals = pd.read_csv(\"amir_deals.csv\")\n",
    "\n",
    "# Histogram of amount with 10 bins and show plot\n",
    "plt.hist(amir_deals.amount, bins=10)\n",
    "# amir_deals.amount.hist(bins=10)\n",
    "plt.show()"
   ]
  },
  {
   "cell_type": "markdown",
   "id": "da34be55-0b7e-482a-b698-6b48f409263b",
   "metadata": {},
   "source": [
    "**Probabilities from the normal distribution**\n",
    "\n",
    "Since each deal Amir worked on (both won and lost) was different, each was worth a different amount of money. These values are stored in the amount column of amir_deals and follow a normal distribution with a mean of 5000 dollars and a standard deviation of 2000 dollars. As part of his performance metrics, you want to calculate the probability of Amir closing a deal worth various amounts."
   ]
  },
  {
   "cell_type": "code",
   "execution_count": 2,
   "id": "c344a786-fc45-4a87-a015-b9a8398d1f50",
   "metadata": {},
   "outputs": [
    {
     "name": "stdout",
     "output_type": "stream",
     "text": [
      "0.8943502263331446\n",
      "0.9772498680518208\n",
      "0.6826894921370859\n",
      "3651.0204996078364\n"
     ]
    }
   ],
   "source": [
    "from scipy.stats import norm\n",
    "\n",
    "# Probability of deal < 7500\n",
    "prob_less_7500 = norm.cdf(7500,5000,2000)\n",
    "\n",
    "print(prob_less_7500)\n",
    "\n",
    "# Probability of deal > 1000\n",
    "prob_over_1000 = 1 - norm.cdf(1000,5000,2000)\n",
    "\n",
    "print(prob_over_1000)\n",
    "\n",
    "# Probability of deal between 3000 and 7000\n",
    "prob_3000_to_7000 = norm.cdf(7000,5000,2000) - norm.cdf(3000,5000,2000)\n",
    "\n",
    "print(prob_3000_to_7000)\n",
    "\n",
    "# What amount will 25% of Amir's sales be less than?\n",
    "pct_25 = norm.ppf(0.25, 5000, 2000)\n",
    "\n",
    "print(pct_25)"
   ]
  },
  {
   "cell_type": "markdown",
   "id": "13a830d5-b7e4-4ace-9313-534ac0be16a9",
   "metadata": {},
   "source": [
    "**Simulating sales under new market conditions**\n",
    "\n",
    "The company's financial analyst is predicting that next quarter, the worth of each sale will increase by 20% and the volatility, or standard deviation, of each sale's worth will increase by 30%. To see what Amir's sales might look like next quarter under these new market conditions, you'll simulate new sales amounts using the normal distribution and store these in the new_sales DataFrame, which has already been created for you.\n",
    "\n",
    "- Currently, Amir's average sale amount is $5000. Calculate what his new average amount will be if it increases by 20% and store this in `new_mean`.\n",
    "\n",
    "- Amir's current standard deviation is $2000. Calculate what his new standard deviation will be if it increases by 30% and store this in `new_sd`.\n",
    "\n",
    "- Create a variable called `new_sales`, which contains 36 simulated amounts from a normal distribution with a mean of `new_mean` and a standard deviation of `new_sd`.\n",
    "\n",
    "- Plot the distribution of the `new_sales` amounts using a histogram and show the plot."
   ]
  },
  {
   "cell_type": "code",
   "execution_count": 19,
   "id": "1c585fff-8d66-4637-9ea8-fa750359f58f",
   "metadata": {},
   "outputs": [
    {
     "name": "stdout",
     "output_type": "stream",
     "text": [
      "New Simulated Sales:\n",
      "[ 7587.07355539  3843.87967968  3093.78576833  2624.70415358\n",
      "  4821.99771486 11065.42053116  5271.6773713   5249.99766969\n",
      "  6885.80612417 10049.1053132   5342.63903533  2912.28869829\n",
      "  3068.47187158  5431.29659383  3732.37516828  5407.32003483\n",
      " 10913.65428106  4059.97620423  8940.5461833   7636.54148151\n",
      "  1109.57666935  4700.60686282  6605.60989838  3733.61044516\n",
      "  5830.97946345  5530.13505857  8266.36632129  6730.12420584\n",
      "  4437.25783817  7343.20713184  5800.58185841  8429.51894853\n",
      " 10669.18146456  3189.10244719  8928.91453988 -1615.70018319]\n"
     ]
    },
    {
     "data": {
      "image/png": "[encoded data removed]",
      "text/plain": [
       "<Figure size 640x480 with 1 Axes>"
      ]
     },
     "metadata": {},
     "output_type": "display_data"
    }
   ],
   "source": [
    "# Calculate new average amount\n",
    "new_mean = 5000 * 1.2\n",
    "\n",
    "# Calculate new standard deviation\n",
    "new_sd = 2000 * 1.3\n",
    "\n",
    "# Simulate 36 new sales\n",
    "new_sales = norm.rvs(new_mean,new_sd,size=36)\n",
    "\n",
    "print('New Simulated Sales:')\n",
    "print(new_sales)\n",
    "\n",
    "# Create histogram and show\n",
    "plt.hist(new_sales)\n",
    "plt.show()"
   ]
  },
  {
   "cell_type": "markdown",
   "id": "0ca9b447-621d-46e3-b915-0b7595600497",
   "metadata": {},
   "source": [
    "**Which market is better?**\n",
    "\n",
    "The key metric that the company uses to evaluate salespeople is the percent of sales they make over $1000 since the time put into each sale is usually worth a bit more than that, so the higher this metric, the better the salesperson is performing.\n",
    "\n",
    "Recall that Amir's current sales amounts have a mean of 5000 and a standard deviation of 2000, and Amir's predicted amounts in next quarter's market have a mean of 6000 and a standard deviation of 2600.\n",
    "\n",
    "Based **only** on the metric of **percent of sales over $1000**, does Amir perform better in the current market or the predicted market?"
   ]
  },
  {
   "cell_type": "code",
   "execution_count": 21,
   "id": "2660de79-c8e0-4f1d-9834-0c8a967a2352",
   "metadata": {},
   "outputs": [
    {
     "name": "stdout",
     "output_type": "stream",
     "text": [
      "Current Market Performance:\n",
      "97.72498680518208 \n",
      "\n",
      "Next Quarter Market Performance:\n",
      "97.27648049862613\n"
     ]
    }
   ],
   "source": [
    "print('Current Market Performance:')\n",
    "print(100 * (1 - norm.cdf(1000,5000,2000)),'\\n')\n",
    "\n",
    "print('Next Quarter Market Performance:')\n",
    "print(100 * (1 - norm.cdf(1000,6000,2600)))"
   ]
  },
  {
   "cell_type": "markdown",
   "id": "0792aa52-9518-4683-a4fb-1cd7516a68d3",
   "metadata": {},
   "source": [
    "### The Central Limit Theorem\n",
    "\n",
    "**Rolling the dice 5 times:** \n",
    "\n",
    "Let's go back to our dice rolling example. This gives us the results of 5 rolls. Now, we'll take the mean of the 5 rolls, which gives us 2. If we roll another 5 times and take the mean, we get a different mean. If we do it again, we get another mean. Let's repeat this 10 times: we'll roll 5 times and take the mean. To do this, we'll use a for loop. We start by creating an empty list called `sample_means` to hold our means. We loop from 0 to 9 so that the process is repeated 10 times. Inside the loop, we roll 5 times and append the sample's mean to the `sample_means` list. This gives us a list of 10 different sample means. Let's plot these sample means.\n",
    "\n",
    "**Sampling distributions:**\n",
    "\n",
    "A distribution of a summary statistic like this is called a sampling distribution. This distribution, specifically, is a sampling distribution of the sample mean. Now let's do this 100 times. If we look at the new sampling distribution, its shape somewhat resembles the *normal distribution*, even though the distribution of the die is *uniform*. Let's take 1000 means. This sampling distribution more closely resembles the *normal distribution*.\n",
    "\n",
    "**Central limit theorem**\n",
    "\n",
    "This phenomenon is known as the central limit theorem, which states that a sampling distribution will approach a normal distribution as the number of trials increases. In our example, the sampling distribution became closer to the normal distribution as we took more and more sample means. It's important to note that the central limit theorem only applies when samples are taken randomly and are independent, for example, randomly picking sales deals with replacement.\n",
    "\n",
    "**Standard deviation and the CLT**\n",
    "\n",
    "The *central limit theorem*, or CLT, applies to other summary statistics as well. If we take the standard deviation of 5 rolls 1000 times, the sample standard deviations are distributed normally, centered around 1.9, which is the distribution's standard deviation.\n",
    "\n",
    "**Proportions and the CLT**\n",
    "\n",
    "Another statistic that the CLT applies to is proportion. Let's sample from the sales team 10 times with replacement and see how many draws have Claire as the outcome. In this case, 10% of draws were Claire. If we draw again, there are 40% Claires.\n",
    "\n",
    "If we repeat this 1000 times and plot the distribution of the sample proportions, it resembles a normal distribution centered around 0-point-25, since Claire's name was on 25% of the tickets.\n",
    "\n",
    "**Mean of sampling distribution**\n",
    "\n",
    "Since these sampling distributions are normal, we can take their mean to get an estimate of a distribution's *mean*, *standard deviation*, or *proportion*. If we take the *mean* of our sample *means* from earlier, we get 3.48. That's pretty close to the expected value, which is 3.5! Similarly, the *mean* of the sample proportions of Claires isn't far off from 0.25. In these examples, we know what the underlying distributions look like, but if we don't, this can be a useful method for estimating characteristics of an underlying distribution. \n",
    "\n",
    "The *central limit theorem* also comes in handy when you have a huge population and don't have the time or resources to collect data on everyone. Instead, you can collect several smaller samples and create a sampling distribution to estimate what the *mean* or *standard deviation* is."
   ]
  },
  {
   "cell_type": "markdown",
   "id": "94b96c88-c3b3-4ae3-bd0b-057c8e7e7e00",
   "metadata": {},
   "source": [
    "**The CLT in action**\n",
    "\n",
    "The central limit theorem states that a sampling distribution of a sample statistic \n",
    "approaches the normal distribution as you take more samples, no matter the original \n",
    "distribution being sampled from.\n",
    "\n",
    "In this exercise, you'll focus on the sample mean and see the central limit theorem \n",
    "in action while examining the num_users column of amir_deals more closely, which \n",
    "contains the number of people who intend to use the product Amir is selling."
   ]
  },
  {
   "cell_type": "code",
   "execution_count": 3,
   "id": "74a5197e-8b0a-4ccc-91c6-da08b19084b3",
   "metadata": {},
   "outputs": [
    {
     "data": {
      "image/png": "[encoded data removed]",
      "text/plain": [
       "<Figure size 640x480 with 1 Axes>"
      ]
     },
     "metadata": {},
     "output_type": "display_data"
    }
   ],
   "source": [
    "# Histogram of amount with 10 bins and show plot\n",
    "plt.hist(amir_deals.num_users, bins=10)\n",
    "# amir_deals.amount.hist(bins=10)\n",
    "plt.show()"
   ]
  },
  {
   "cell_type": "code",
   "execution_count": 9,
   "id": "9f974600-cff8-4088-b290-54d6c1c9dfb3",
   "metadata": {},
   "outputs": [
    {
     "name": "stdout",
     "output_type": "stream",
     "text": [
      "Samples Mean:\n",
      "[np.float64(31.35), np.float64(45.05), np.float64(33.55), np.float64(38.15), np.float64(50.85), np.float64(31.85), np.float64(34.65), np.float64(36.25), np.float64(38.9), np.float64(44.05), np.float64(35.45), np.float64(37.6), np.float64(37.95), np.float64(28.85), np.float64(33.3), np.float64(31.65), np.float64(45.5), np.float64(43.2), np.float64(24.4), np.float64(41.05), np.float64(37.2), np.float64(39.3), np.float64(29.45), np.float64(33.55), np.float64(45.3), np.float64(45.1), np.float64(30.95), np.float64(36.25), np.float64(37.65), np.float64(42.55), np.float64(34.55), np.float64(41.1), np.float64(36.9), np.float64(42.45), np.float64(38.45), np.float64(45.9), np.float64(42.7), np.float64(38.4), np.float64(32.55), np.float64(30.25), np.float64(38.0), np.float64(38.75), np.float64(49.3), np.float64(39.55), np.float64(49.05), np.float64(42.05), np.float64(41.0), np.float64(40.6), np.float64(58.25), np.float64(34.55), np.float64(51.2), np.float64(34.15), np.float64(36.95), np.float64(42.45), np.float64(41.85), np.float64(33.2), np.float64(36.15), np.float64(37.55), np.float64(34.2), np.float64(29.75), np.float64(42.35), np.float64(43.75), np.float64(29.0), np.float64(32.05), np.float64(31.65), np.float64(44.6), np.float64(30.85), np.float64(29.6), np.float64(37.7), np.float64(33.1), np.float64(36.35), np.float64(40.65), np.float64(45.7), np.float64(33.8), np.float64(40.1), np.float64(39.9), np.float64(33.5), np.float64(32.65), np.float64(32.85), np.float64(42.85), np.float64(35.4), np.float64(31.7), np.float64(32.0), np.float64(33.85), np.float64(36.6), np.float64(44.35), np.float64(39.9), np.float64(37.0), np.float64(37.3), np.float64(42.5), np.float64(38.35), np.float64(42.8), np.float64(44.55), np.float64(30.3), np.float64(50.45), np.float64(42.35), np.float64(40.65), np.float64(29.85), np.float64(39.3), np.float64(33.1)]\n"
     ]
    },
    {
     "data": {
      "image/png": "[encoded data removed]",
      "text/plain": [
       "<Figure size 640x480 with 1 Axes>"
      ]
     },
     "metadata": {},
     "output_type": "display_data"
    }
   ],
   "source": [
    "# Set seed to 104\n",
    "np.random.seed(104)\n",
    "\n",
    "# Sample 20 num_users with replacement from amir_deals and take mean\n",
    "samp_20 = amir_deals['num_users'].sample(20, replace=True)\n",
    "np.mean(samp_20)\n",
    "\n",
    "sample_means = []\n",
    "# Loop 100 times\n",
    "for i in range(100):\n",
    "  # Take sample of 20 num_users\n",
    "  samp_20 = amir_deals['num_users'].sample(20, replace=True)\n",
    "  # Calculate mean of samp_20\n",
    "  samp_20_mean = np.mean(samp_20)\n",
    "  # Append samp_20_mean to sample_means\n",
    "  sample_means.append(samp_20_mean)\n",
    "\n",
    "print('Samples Mean:')\n",
    "print(sample_means)\n",
    "\n",
    "# Convert to Series and plot histogram\n",
    "sample_means_series = pd.Series(sample_means)\n",
    "sample_means_series.hist()\n",
    "plt.title('Samples Mean - Number of Users')\n",
    "# Show plot\n",
    "plt.show()"
   ]
  },
  {
   "cell_type": "markdown",
   "id": "fac50135-d976-4f39-8018-4ec2fb3d4f28",
   "metadata": {},
   "source": [
    "**The mean of means**\n",
    "\n",
    "You want to know what the average number of users (*num_users*) is per deal, but you \n",
    "want to know this number for the entire company so that you can see if Amir's deals \n",
    "have more or fewer users than the company's average deal. The problem is that over \n",
    "the past year, the company has worked on more than ten thousand deals, so it's not \n",
    "realistic to compile all the data. Instead, you'll estimate the mean by taking \n",
    "several random samples of deals, since this is much easier than collecting data \n",
    "from everyone in the company."
   ]
  },
  {
   "cell_type": "code",
   "execution_count": null,
   "id": "a043b7b0-cab8-4e80-8497-ea84693a16c2",
   "metadata": {},
   "outputs": [],
   "source": [
    "# Set seed to 321\n",
    "np.random.seed(321)\n",
    "\n",
    "sample_means = []\n",
    "# Loop 30 times to take 30 means\n",
    "for i in range(30):\n",
    "  # Take sample of size 20 from num_users col of all_deals with replacement\n",
    "  cur_sample = all_deals['num_users'].sample(20, replace=True)\n",
    "  # Take mean of cur_sample\n",
    "  cur_mean = np.mean(cur_sample)\n",
    "  # Append cur_mean to sample_means\n",
    "  sample_means.append(cur_mean)\n",
    "\n",
    "# Print mean of sample_means\n",
    "print(np.mean(sample_means))\n",
    "\n",
    "# Print mean of num_users in amir_deals\n",
    "print(np.mean(amir_deals['num_users']))\n",
    "\n",
    "'''\n",
    "Output:\n",
    "38.31333333333332\n",
    "37.651685393258425\n",
    "'''"
   ]
  },
  {
   "cell_type": "markdown",
   "id": "c172e774-cce5-4a00-b2f1-cc683e9a4d38",
   "metadata": {},
   "source": [
    "### The Poisson Distribution\n",
    "\n",
    "[Wikipedia: Poisson distribution](https://en.wikipedia.org/wiki/Poisson_distribution)\n",
    "\n",
    "**Tracking lead responses**\n",
    "\n",
    "Your company uses sales software to keep track of new sales leads. It organizes \n",
    "them into a queue so that anyone can follow up on one when they have a bit of free \n",
    "time. Since the number of lead responses is a countable outcome over a period of \n",
    "time, this scenario corresponds to a Poisson distribution. On average, Amir responds \n",
    "to 4 leads each day. In this exercise, you'll calculate probabilities of Amir \n",
    "responding to different numbers of leads."
   ]
  },
  {
   "cell_type": "code",
   "execution_count": 5,
   "id": "54046c4e-3248-431d-b722-d31d4db04341",
   "metadata": {},
   "outputs": [
    {
     "name": "stdout",
     "output_type": "stream",
     "text": [
      "0.1562934518505317\n"
     ]
    }
   ],
   "source": [
    "# Import poisson from scipy.stats\n",
    "from scipy.stats import poisson\n",
    "\n",
    "# Probability of 5 responses\n",
    "prob_5 = poisson.pmf(5,4)\n",
    "\n",
    "print(prob_5)"
   ]
  },
  {
   "cell_type": "code",
   "execution_count": 2,
   "id": "4bfea8fb-8ca2-4149-aa19-99d3cf3c210e",
   "metadata": {},
   "outputs": [
    {
     "name": "stdout",
     "output_type": "stream",
     "text": [
      "0.17140068409793663\n"
     ]
    }
   ],
   "source": [
    "# Amir's coworker responds to an average of 5.5 leads per day. What is the probability \n",
    "# that she answers 5 leads in a day?\n",
    "\n",
    "# Probability of 5 responses\n",
    "prob_coworker = poisson.pmf(5,5.5)\n",
    "\n",
    "print(prob_coworker)"
   ]
  },
  {
   "cell_type": "code",
   "execution_count": 3,
   "id": "c4352fdb-e461-42fc-9961-ff56791d0ddf",
   "metadata": {},
   "outputs": [
    {
     "name": "stdout",
     "output_type": "stream",
     "text": [
      "0.23810330555354436\n"
     ]
    }
   ],
   "source": [
    "# What's the probability that Amir responds to 2 or fewer leads in a day?\n",
    "\n",
    "# Probability of 2 or fewer responses\n",
    "prob_2_or_less = poisson.cdf(2,4)\n",
    "\n",
    "print(prob_2_or_less)"
   ]
  },
  {
   "cell_type": "code",
   "execution_count": 4,
   "id": "d4676a32-4996-4fae-a409-75bed92c4fa2",
   "metadata": {},
   "outputs": [
    {
     "name": "stdout",
     "output_type": "stream",
     "text": [
      "0.0028397661205137315\n"
     ]
    }
   ],
   "source": [
    "# What's the probability that Amir responds to more than 10 leads in a day?\n",
    "\n",
    "# Probability of > 10 responses\n",
    "prob_over_10 = (1 - poisson.cdf(10,4))\n",
    "\n",
    "print(prob_over_10)"
   ]
  },
  {
   "cell_type": "markdown",
   "id": "c8a2fe3c-22bd-4a2f-ad8b-c632ea61dafc",
   "metadata": {},
   "source": [
    "### More Probability Distributions\n",
    "\n",
    "**Exponential distribution**\n",
    "\n",
    "The first distribution is the exponential distribution, which represents the \n",
    "probability of a certain time passing between Poisson events. We can use the \n",
    "exponential distribution to predict, for example, the probability of more than 1 \n",
    "day between adoptions, the probability of fewer than 10 minutes between restaurant \n",
    "arrivals, and the probability of 6-8 months passing between earthquakes. Just like \n",
    "the Poisson distribution, the time unit doesn't matter as long as it's consistent. \n",
    "The exponential distribution uses the same *lambda* value, which represents the rate, \n",
    "that the Poisson distribution does. Note that *lambda* and rate mean the same value \n",
    "in this context. It's also continuous, unlike the Poisson distribution, since it \n",
    "represents time.\n",
    "\n",
    "For example, let's say that one customer service ticket is created every 2 minutes. \n",
    "We can rephrase this so it's in terms of a time interval of one minute, so half \n",
    "of a ticket is created each minute. We'll use 0.5 as the *lambda* value. The rate \n",
    "(lambda) affects the shape of the distribution and how steeply it declines.\n",
    "\n",
    "Recall that *lambda* is the expected value of the Poisson distribution, which measures \n",
    "frequency in terms of rate or number of events. In our customer service ticket \n",
    "example, this means that the expected number of requests per minute is 0.5. \n",
    "The exponential distribution measures frequency in terms of time between events. \n",
    "The expected value of the exponential distribution can be calculated by taking 1 \n",
    "divided by *lambda*. \n",
    "$$\n",
    "E\\,_{Exponential\\,distribution} = \\frac{1}{\\lambda}\n",
    "$$\n",
    "In our example, the expected time between requests is 1 over \n",
    "one half, which is 2, so there is an average of 2 minutes between requests.\n",
    "\n",
    "**t-ditribution (student's)**\n",
    "\n",
    "The next distribution is the t-distribution, which is also sometimes called Student's \n",
    "*t-distribution*. Its shape is similar to the normal distribution, but not quite the \n",
    "same. If we compare the *normal* distribution with the *t-distribution* with \n",
    "one degree of freedom the *t-distribution's* tails are thicker. This \n",
    "means that in a *t-distribution*, observations are more likely to fall further from \n",
    "the mean.\n",
    "\n",
    "Degrees of freedom\n",
    "\n",
    "The t-distribution has a parameter called degrees of freedom, which affects the \n",
    "thickness of the distribution's tails. Lower degrees of freedom results in thicker \n",
    "tails and a higher standard deviation. As the number of degrees of freedom increases, \n",
    "the distribution looks more and more like the normal distribution.\n",
    "\n",
    "**Log-normal distribution**\n",
    "\n",
    "The last distribution we'll discuss is the log-normal distribution. Variables that \n",
    "follow a log-normal distribution have a logarithm that is normally distributed. \n",
    "This results in distributions that are skewed, unlike the normal distribution. \n",
    "There are lots of real-world examples that follow this distribution, such as the \n",
    "- length of chess games,\n",
    "- blood pressure in adults, and\n",
    "- the number of hospitalizations in the 2003 SARS outbreak.\n",
    "\n",
    "**Modeling time between leads**\n",
    "\n",
    "To further evaluate Amir's performance, you want to know how much time it takes \n",
    "him to respond to a lead after he opens it. On average, he responds to 1 request \n",
    "every 2.5 hours. In this exercise, you'll calculate probabilities of different \n",
    "amounts of time passing between Amir receiving a lead and sending a response."
   ]
  },
  {
   "cell_type": "code",
   "execution_count": null,
   "id": "88074bf6-b91d-4bec-a8c4-845f9f20c32e",
   "metadata": {},
   "outputs": [],
   "source": [
    "# Import expon from scipy.stats\n",
    "from scipy.stats import expon\n",
    "\n",
    "# What's the probability it takes Amir less than an hour to respond to a lead?\n",
    "# Print probability response takes < 1 hour\n",
    "print(expon.cdf(1, scale=(2.5)))# Import expon from scipy.stats\n",
    "from scipy.stats import expon\n",
    "\n",
    "# What's the probability it takes Amir less than an hour to respond to a lead?\n",
    "# Print probability response takes < 1 hour\n",
    "print(expon.cdf(1, scale=(2.5)))\n",
    "\n",
    "# What's the probability it takes Amir more than 4 hours to respond to a lead?\n",
    "# Print probability response takes > 4 hours\n",
    "print(1 - expon.cdf(4,scale=2.5))\n",
    "\n",
    "# What's the probability it takes Amir 3-4 hours to respond to a lead?\n",
    "# Print probability response takes 3-4 hours\n",
    "print(expon.cdf(4, scale=2.5) - expon.cdf(3,scale=2.5))"
   ]
  },
  {
   "cell_type": "markdown",
   "id": "e0d4f376-9b21-4d10-82f2-a5d63b48d182",
   "metadata": {},
   "source": [
    "## Correlation and Experimental Design\n",
    "\n",
    "In this chapter, you'll learn how to quantify the strength of a linear relationship \n",
    "between two variables, and explore how confounding variables can affect the relationship \n",
    "between two other variables. You'll also see how a study’s design can influence \n",
    "its results, change how the data should be analyzed, and potentially affect the \n",
    "reliability of your conclusions."
   ]
  },
  {
   "cell_type": "markdown",
   "id": "372288af-9c27-4e1d-b065-19d23cee37b3",
   "metadata": {},
   "source": [
    "### Correlation\n",
    "\n",
    "**Correlation coefficient**\n",
    "\n",
    "We can also examine relationships between two numeric variables using a number \n",
    "called the correlation coefficient. This is a number between -1 and 1, where the \n",
    "magnitude corresponds to the strength of the relationship between the variables, \n",
    "and the sign, positive or negative, corresponds to the direction of the relationship.\n",
    "\n",
    "The sign of the correlation coefficient corresponds to the direction of the relationship. \n",
    "A positive correlation coefficient indicates that as x increases, y also increases. \n",
    "A negative correlation coefficient indicates that as x increases, y decreases.\n",
    "\n",
    "To visualize relationships between two variables, we can use a scatterplot. We'll \n",
    "use seaborn, which is a plotting package built on top of matplotlib.\n",
    "\n",
    "**Computing correlation**\n",
    "\n",
    "To calculate the correlation coefficient between two Series, we can use the `.corr` \n",
    "method. If we want the correlation between the sleep_total and sleep_rem columns \n",
    "of msleep, we can take the sleep_total column and call `.corr` on it, passing in \n",
    "the other Series we're interested in. Note that it doesn't matter which Series the \n",
    "method is invoked on and which is passed in since the correlation between x and y \n",
    "is the same thing as the correlation between y and x.\n",
    "\n",
    "There's more than one way to calculate correlation, but the method we'll be using \n",
    "in this video is called the *Pearson product-moment correlation*, which is also \n",
    "written as r. This is the most commonly used measure of correlation. Know that there \n",
    "are variations of this formula that measure correlation a bit differently, such \n",
    "as *Kendall's tau* and *Spearman's rho*, but those are beyond the scope of this course.\n",
    "\n",
    "**Relationships between variables**\n",
    "\n",
    "In this chapter, you'll be working with a dataset world_happiness containing results \n",
    "from the 2019 World Happiness Report. The report scores various countries based \n",
    "on how happy people in that country are. It also ranks each country on various \n",
    "societal aspects such as social support, freedom, corruption, and others. The \n",
    "dataset also includes the GDP per capita and life expectancy for each country.\n",
    "\n",
    "In this exercise, you'll examine the relationship between a country's life expectancy \n",
    "(`life_exp`) and happiness score (`happiness_score`) both visually and quantitatively. \n",
    "Import `seaborn as sns`, `matplotlib.pyplot as plt`, and `pandas as pd` and load \n",
    "`world_happiness`."
   ]
  },
  {
   "cell_type": "code",
   "execution_count": 6,
   "id": "b2760931-a659-488d-8e9e-a69385648d08",
   "metadata": {},
   "outputs": [
    {
     "data": {
      "text/html": [
       "<div>\n",
       "<style scoped>\n",
       "    .dataframe tbody tr th:only-of-type {\n",
       "        vertical-align: middle;\n",
       "    }\n",
       "\n",
       "    .dataframe tbody tr th {\n",
       "        vertical-align: top;\n",
       "    }\n",
       "\n",
       "    .dataframe thead th {\n",
       "        text-align: right;\n",
       "    }\n",
       "</style>\n",
       "<table border=\"1\" class=\"dataframe\">\n",
       "  <thead>\n",
       "    <tr style=\"text-align: right;\">\n",
       "      <th></th>\n",
       "      <th>Unnamed: 0</th>\n",
       "      <th>country</th>\n",
       "      <th>social_support</th>\n",
       "      <th>freedom</th>\n",
       "      <th>corruption</th>\n",
       "      <th>generosity</th>\n",
       "      <th>gdp_per_cap</th>\n",
       "      <th>life_exp</th>\n",
       "      <th>happiness_score</th>\n",
       "    </tr>\n",
       "  </thead>\n",
       "  <tbody>\n",
       "    <tr>\n",
       "      <th>10</th>\n",
       "      <td>11</td>\n",
       "      <td>Australia</td>\n",
       "      <td>7.0</td>\n",
       "      <td>17.0</td>\n",
       "      <td>13.0</td>\n",
       "      <td>6.0</td>\n",
       "      <td>45500</td>\n",
       "      <td>82.7</td>\n",
       "      <td>145</td>\n",
       "    </tr>\n",
       "    <tr>\n",
       "      <th>8</th>\n",
       "      <td>9</td>\n",
       "      <td>Canada</td>\n",
       "      <td>20.0</td>\n",
       "      <td>9.0</td>\n",
       "      <td>11.0</td>\n",
       "      <td>14.0</td>\n",
       "      <td>44200</td>\n",
       "      <td>82.2</td>\n",
       "      <td>147</td>\n",
       "    </tr>\n",
       "    <tr>\n",
       "      <th>90</th>\n",
       "      <td>91</td>\n",
       "      <td>Nepal</td>\n",
       "      <td>87.0</td>\n",
       "      <td>67.0</td>\n",
       "      <td>65.0</td>\n",
       "      <td>46.0</td>\n",
       "      <td>2880</td>\n",
       "      <td>71.5</td>\n",
       "      <td>56</td>\n",
       "    </tr>\n",
       "    <tr>\n",
       "      <th>99</th>\n",
       "      <td>100</td>\n",
       "      <td>Somalia</td>\n",
       "      <td>145.0</td>\n",
       "      <td>14.0</td>\n",
       "      <td>16.0</td>\n",
       "      <td>96.0</td>\n",
       "      <td>631</td>\n",
       "      <td>59.2</td>\n",
       "      <td>44</td>\n",
       "    </tr>\n",
       "    <tr>\n",
       "      <th>52</th>\n",
       "      <td>53</td>\n",
       "      <td>Jamaica</td>\n",
       "      <td>28.0</td>\n",
       "      <td>49.0</td>\n",
       "      <td>130.0</td>\n",
       "      <td>119.0</td>\n",
       "      <td>8310</td>\n",
       "      <td>74.9</td>\n",
       "      <td>100</td>\n",
       "    </tr>\n",
       "    <tr>\n",
       "      <th>87</th>\n",
       "      <td>88</td>\n",
       "      <td>Cameroon</td>\n",
       "      <td>129.0</td>\n",
       "      <td>90.0</td>\n",
       "      <td>120.0</td>\n",
       "      <td>91.0</td>\n",
       "      <td>3400</td>\n",
       "      <td>63.8</td>\n",
       "      <td>60</td>\n",
       "    </tr>\n",
       "    <tr>\n",
       "      <th>42</th>\n",
       "      <td>43</td>\n",
       "      <td>Nicaragua</td>\n",
       "      <td>66.0</td>\n",
       "      <td>70.0</td>\n",
       "      <td>43.0</td>\n",
       "      <td>71.0</td>\n",
       "      <td>4620</td>\n",
       "      <td>79.2</td>\n",
       "      <td>111</td>\n",
       "    </tr>\n",
       "    <tr>\n",
       "      <th>65</th>\n",
       "      <td>66</td>\n",
       "      <td>Serbia</td>\n",
       "      <td>57.0</td>\n",
       "      <td>124.0</td>\n",
       "      <td>118.0</td>\n",
       "      <td>84.0</td>\n",
       "      <td>16700</td>\n",
       "      <td>76.0</td>\n",
       "      <td>86</td>\n",
       "    </tr>\n",
       "  </tbody>\n",
       "</table>\n",
       "</div>"
      ],
      "text/plain": [
       "    Unnamed: 0    country  social_support  freedom  corruption  generosity  gdp_per_cap  life_exp  happiness_score\n",
       "10          11  Australia             7.0     17.0        13.0         6.0        45500      82.7              145\n",
       "8            9     Canada            20.0      9.0        11.0        14.0        44200      82.2              147\n",
       "90          91      Nepal            87.0     67.0        65.0        46.0         2880      71.5               56\n",
       "99         100    Somalia           145.0     14.0        16.0        96.0          631      59.2               44\n",
       "52          53    Jamaica            28.0     49.0       130.0       119.0         8310      74.9              100\n",
       "87          88   Cameroon           129.0     90.0       120.0        91.0         3400      63.8               60\n",
       "42          43  Nicaragua            66.0     70.0        43.0        71.0         4620      79.2              111\n",
       "65          66     Serbia            57.0    124.0       118.0        84.0        16700      76.0               86"
      ]
     },
     "execution_count": 6,
     "metadata": {},
     "output_type": "execute_result"
    }
   ],
   "source": [
    "import numpy as np\n",
    "import pandas as pd\n",
    "import matplotlib.pyplot as plt\n",
    "import seaborn as sns\n",
    "\n",
    "# Importing the course datasets\n",
    "world_happiness = pd.read_csv(\"world_happiness.csv\")\n",
    "\n",
    "# Validate dataset\n",
    "world_happiness.sample(8)"
   ]
  },
  {
   "cell_type": "code",
   "execution_count": 7,
   "id": "d007ab63-aecb-4f5a-81c6-1d3da03a1b94",
   "metadata": {},
   "outputs": [
    {
     "data": {
      "image/png": "[encoded data removed]",
      "text/plain": [
       "<Figure size 640x480 with 1 Axes>"
      ]
     },
     "metadata": {},
     "output_type": "display_data"
    }
   ],
   "source": [
    "# Create a scatterplot of happiness_score vs. life_exp and show\n",
    "sns.scatterplot(x='life_exp',\n",
    "                y='happiness_score',\n",
    "                data=world_happiness\n",
    "                )\n",
    "\n",
    "# Show plot\n",
    "plt.show()"
   ]
  },
  {
   "cell_type": "code",
   "execution_count": 11,
   "id": "70178ce7-ea58-4e6f-9e9b-d77398682735",
   "metadata": {},
   "outputs": [
    {
     "data": {
      "image/png": "[encoded data removed]",
      "text/plain": [
       "<Figure size 500x500 with 1 Axes>"
      ]
     },
     "metadata": {},
     "output_type": "display_data"
    }
   ],
   "source": [
    "# Create scatterplot of happiness_score vs life_exp with trendline\n",
    "\n",
    "sns.lmplot(x='life_exp',\n",
    "           y='happiness_score',\n",
    "           data=world_happiness,\n",
    "           ci=None\n",
    "          )\n",
    "\n",
    "# Show plot\n",
    "plt.show()"
   ]
  },
  {
   "cell_type": "code",
   "execution_count": 12,
   "id": "0f30ef51-c0a7-45a0-9199-a5df70a3171c",
   "metadata": {},
   "outputs": [
    {
     "name": "stdout",
     "output_type": "stream",
     "text": [
      "0.7802249053272062\n"
     ]
    }
   ],
   "source": [
    "print(world_happiness.life_exp.corr(world_happiness.happiness_score))"
   ]
  },
  {
   "cell_type": "markdown",
   "id": "59ef263b-eaf6-4ec0-bbde-138b291055fb",
   "metadata": {},
   "source": [
    "### Correlation caveats\n",
    "\n",
    "**What can't correlation measure?**\n",
    "\n",
    "While the correlation coefficient is a convenient way to quantify the strength of \n",
    "a relationship between two variables, it's far from perfect. In this exercise, \n",
    "you'll explore one of the caveats of the correlation coefficient by examining the \n",
    "relationship between a country's GDP per capita (gdp_per_cap) and happiness score."
   ]
  },
  {
   "cell_type": "code",
   "execution_count": 13,
   "id": "30ff229d-beb4-4e37-b15c-4db57f730787",
   "metadata": {},
   "outputs": [
    {
     "data": {
      "image/png": "[encoded data removed]",
      "text/plain": [
       "<Figure size 640x480 with 1 Axes>"
      ]
     },
     "metadata": {},
     "output_type": "display_data"
    }
   ],
   "source": [
    "# Create a seaborn scatterplot (without a trendline) showing the relationship between gdp_per_cap (on the x-axis) and life_exp (on the y-axis)\n",
    "sns.scatterplot(x='gdp_per_cap',\n",
    "                y='life_exp',\n",
    "                data=world_happiness\n",
    "                )\n",
    "# Show plot\n",
    "plt.show()"
   ]
  },
  {
   "cell_type": "code",
   "execution_count": 14,
   "id": "aee27bb4-ad44-4a9e-bbc8-23809ad320e3",
   "metadata": {},
   "outputs": [
    {
     "name": "stdout",
     "output_type": "stream",
     "text": [
      "0.7019547642148015\n"
     ]
    }
   ],
   "source": [
    "# Correlation between gdp_per_cap and life_exp\n",
    "cor = world_happiness.gdp_per_cap.corr(world_happiness.life_exp)\n",
    "\n",
    "print(cor)"
   ]
  },
  {
   "cell_type": "markdown",
   "id": "e29fb926-31c7-4914-8a98-1bd0e0c4b76f",
   "metadata": {},
   "source": [
    "**Transforming variables**\n",
    "\n",
    "When variables have skewed distributions, they often require a transformation in \n",
    "order to form a linear relationship with another variable so that correlation can \n",
    "be computed. In this exercise, you'll perform a transformation yourself."
   ]
  },
  {
   "cell_type": "code",
   "execution_count": 16,
   "id": "c9a4fd0a-fbd9-45f6-a9c2-701a22a3e9fc",
   "metadata": {},
   "outputs": [
    {
     "data": {
      "image/png": "[encoded data removed]",
      "text/plain": [
       "<Figure size 640x480 with 1 Axes>"
      ]
     },
     "metadata": {},
     "output_type": "display_data"
    },
    {
     "name": "stdout",
     "output_type": "stream",
     "text": [
      "Correlation of GDP vrs Happines is 0.7279733012222975\n"
     ]
    }
   ],
   "source": [
    "# Scatterplot of happiness_score vs. gdp_per_cap\n",
    "sns.scatterplot(x='gdp_per_cap',\n",
    "                y='happiness_score',\n",
    "                data=world_happiness\n",
    "                )\n",
    "\n",
    "# Show plot\n",
    "plt.show()\n",
    "\n",
    "# Calculate correlation\n",
    "cor = world_happiness.gdp_per_cap.corr(world_happiness.happiness_score)\n",
    "\n",
    "print(f'Correlation of GDP vrs Happines is {cor}')"
   ]
  },
  {
   "cell_type": "markdown",
   "id": "c45f3862-6f84-48a0-b280-6ac998003985",
   "metadata": {},
   "source": [
    "Add a new column to world_happiness called `log_gdp_per_cap` that contains the log \n",
    "of `gdp_per_cap`.\n",
    "Create a seaborn scatterplot of happiness_score versus `log_gdp_per_cap`.\n",
    "Calculate the correlation between `log_gdp_per_cap` and `happiness_score`."
   ]
  },
  {
   "cell_type": "code",
   "execution_count": 17,
   "id": "decd89a4-3aae-4430-9efd-fed54605c632",
   "metadata": {},
   "outputs": [
    {
     "data": {
      "image/png": "[encoded data removed]",
      "text/plain": [
       "<Figure size 640x480 with 1 Axes>"
      ]
     },
     "metadata": {},
     "output_type": "display_data"
    },
    {
     "name": "stdout",
     "output_type": "stream",
     "text": [
      "Correlation of GDP vrs Happines is 0.8043146004918288\n"
     ]
    }
   ],
   "source": [
    "# Create log_gdp_per_cap column\n",
    "world_happiness['log_gdp_per_cap'] = np.log(world_happiness.gdp_per_cap)\n",
    "\n",
    "# Scatterplot of happiness_score vs. log_gdp_per_cap\n",
    "sns.scatterplot(x='log_gdp_per_cap',\n",
    "                y='happiness_score',\n",
    "                data=world_happiness\n",
    "                )\n",
    "\n",
    "# Show plot\n",
    "plt.show()\n",
    "\n",
    "# Correlation between log_gdp_per_cap and happiness_score\n",
    "cor = world_happiness.log_gdp_per_cap.corr(world_happiness.happiness_score)\n",
    "\n",
    "print(f'Correlation of GDP vrs Happines is {cor}')"
   ]
  },
  {
   "cell_type": "markdown",
   "id": "1453596d-8437-416a-848b-564a24fb7926",
   "metadata": {},
   "source": [
    "**Does sugar improve happiness?**\n",
    "\n",
    "A new column has been added to world_happiness called grams_sugar_per_day, which \n",
    "contains the average amount of sugar eaten per person per day in each country. \n",
    "In this exercise, you'll examine the effect of a country's average sugar consumption \n",
    "on its happiness score."
   ]
  },
  {
   "cell_type": "code",
   "execution_count": null,
   "id": "637c8141-9bdc-4e05-921f-765b3dc7dd5e",
   "metadata": {},
   "outputs": [],
   "source": [
    "# Create a seaborn scatterplot showing the relationship between grams_sugar_per_day (on the x-axis) and happiness_score (on the y-axis).\n",
    "sns.scatterplot(x='grams_sugar_per_day',\n",
    "                y='happiness_score',\n",
    "                data=world_happiness\n",
    "                )\n",
    "\n",
    "# Show plot\n",
    "plt.show()\n",
    "\n",
    "# Correlation between grams_sugar_per_day and happiness_score\n",
    "cor = world_happiness.grams_sugar_per_day.corr(world_happiness.happiness_score)\n",
    "print(f'Correlation of GDP vrs Happines is {cor}')"
   ]
  },
  {
   "cell_type": "markdown",
   "id": "9a796d97-7c4d-4823-9ed3-c77fff7a6bdb",
   "metadata": {},
   "source": [
    "### Design of experiments\n",
    "\n",
    "Often, data is created as a result of a study that aims to answer a specific question. \n",
    "However, data needs to be analyzed and interpreted differently depending on how \n",
    "the data was generated and how the study was designed.\n",
    "\n",
    "1. **Vocabulary**: Experiments generally aim to answer a question in the form, *\"What\n",
    "is the effect of the treatment on the response?\"* In this setting, treatment refers\n",
    "to the explanatory or independent variable, and response refers to the response or\n",
    "dependent variable. For example, what is the effect of an advertisement on the number\n",
    "of products purchased? In this case, the treatment is an advertisement, and the\n",
    "response is the number of products purchased.\n",
    "\n",
    "2. **Controlled experiments**: In a controlled experiment, participants are randomly\n",
    "assigned to either the treatment group or the control group, where the treatment\n",
    "group receives the treatment and the control group does not. A great example of\n",
    "this is an *A/B test*. In our example, the treatment group will see an advertisement,\n",
    "and the control group will not. Other than this difference, the groups should be\n",
    "comparable so that we can determine if seeing an advertisement causes people to\n",
    "buy more. If the groups aren't comparable, this could lead to confounding, or\n",
    "bias. If the average age of participants in the treatment group is 25 and the\n",
    "average age of participants in the control group is 50, age could be a potential\n",
    "confounder if younger people are more likely to purchase more, and this will make\n",
    "the experiment biased towards the treatment.\n",
    "\n",
    "3. The gold standard of experiments will use...\n",
    "    - The gold standard, or ideal experiment, will eliminate as much bias as possible\n",
    "      by using certain tools. The first tool to help eliminate bias in controlled\n",
    "      experiments is to use a randomized controlled trial. In a randomized controlled\n",
    "      trial, participants are randomly assigned to the treatment or control group\n",
    "      and their assignment isn't based on anything other than chance. Random assignment\n",
    "      like this helps ensure that the groups are comparable. The second way is to\n",
    "      use a placebo, which is something that resembles the treatment, but has no\n",
    "      effect. This way, participants don't know if they're in the treatment or\n",
    "      control group. This ensures that the effect of the treatment is due to the\n",
    "      treatment itself, not the idea of getting the treatment. This is common in\n",
    "      clinical trials that test the effectiveness of a drug. The control group\n",
    "      will still be given a pill, but it's a sugar pill that has minimal effects\n",
    "      on the response.\n",
    "    - In a double-blind experiment, the person administering the treatment or running\n",
    "      the experiment also doesn't know whether they're administering the actual\n",
    "      treatment or the placebo. This protects against bias in the response as well\n",
    "      as the analysis of the results. These different tools all boil down to the\n",
    "      same principle: if there are fewer opportunities for bias to creep into your\n",
    "      experiment, the more reliably you can conclude whether the treatment affects\n",
    "      the response.\n",
    "\n",
    "4. **Observational studies**: The other kind of study we'll discuss is the observational\n",
    "   study. In an observational study, participants are not randomly assigned to groups.\n",
    "   Instead, participants assign themselves, usually based on pre-existing characteristics.\n",
    "   This is useful for answering questions that aren't conducive to a controlled experiment.\n",
    "   If you want to study the effect of smoking on cancer, you can't force people\n",
    "   to start smoking. Similarly, if you want to study how past purchasing behavior\n",
    "   affects whether someone will buy a product, you can't force people to have certain\n",
    "   past purchasing behavior. Because assignment isn't random, there's no way to\n",
    "   guarantee that the groups will be comparable in every aspect, so observational\n",
    "   studies can't establish causation, only association. The effects of the treatment\n",
    "   may be confounded by factors that got certain people into the control group and\n",
    "   certain people into the treatment group. However, there are ways to control for\n",
    "   confounders, which can help strengthen the reliability of conclusions about association.\n",
    "\n",
    "5. **Longitudinal vs. cross-sectional studies**: The final important distinction\n",
    "   to make is between longitudinal and cross-sectional studies. In a longitudinal\n",
    "   study, the same participants are followed over a period of time to examine the\n",
    "   effect of treatment on the response. In a cross-sectional study, data is collected\n",
    "   from a single snapshot in time. If you wanted to investigate the effect of age\n",
    "   on height, a cross-sectional study would measure the heights of people of different\n",
    "   ages and compare them. However, the results will be confounded by birth year\n",
    "   and lifestyle since it's possible that each generation is getting taller. In\n",
    "   a longitudinal study,the same people would have their heights recorded at different\n",
    "   points in their lives, so the confounding is eliminated. It's important to not\n",
    "   that longitudinal studies are more expensive, and take longer to perform, while\n",
    "   cross-sectional studies are cheaper, faster, and more convenient.\n",
    "\n",
    "**Study types**\n",
    "\n",
    "While controlled experiments are ideal, many situations and research questions are \n",
    "not conducive to a controlled experiment. In a controlled experiment, causation \n",
    "can likely be inferred if the control and test groups have similar characteristics \n",
    "and don't have any systematic difference between them. On the other hand, causation \n",
    "cannot usually be inferred from observational studies, whose results are often \n",
    "misinterpreted as a result."
   ]
  },
  {
   "cell_type": "code",
   "execution_count": null,
   "id": "04ce2e98-2329-440a-b212-22d1405dce25",
   "metadata": {},
   "outputs": [],
   "source": []
  }
 ],
 "metadata": {
  "kernelspec": {
   "display_name": "Python 3 (ipykernel)",
   "language": "python",
   "name": "python3"
  },
  "language_info": {
   "codemirror_mode": {
    "name": "ipython",
    "version": 3
   },
   "file_extension": ".py",
   "mimetype": "text/x-python",
   "name": "python",
   "nbconvert_exporter": "python",
   "pygments_lexer": "ipython3",
   "version": "3.11.9"
  }
 },
 "nbformat": 4,
 "nbformat_minor": 5
}
