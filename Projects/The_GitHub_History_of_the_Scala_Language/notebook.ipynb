{
 "cells": [
  {
   "cell_type": "markdown",
   "metadata": {
    "dc": {
     "key": "5"
    },
    "deletable": false,
    "editable": false,
    "run_control": {
     "frozen": true
    },
    "tags": [
     "context"
    ]
   },
   "source": [
    "## 1. Scala's real-world project repository data\n",
    "<p>With almost 30k commits and a history spanning over ten years, Scala is a mature programming language. It is a general-purpose programming language that has recently become another prominent language for data scientists.</p>\n",
    "<p>Scala is also an open source project. Open source projects have the advantage that their entire development histories -- who made changes, what was changed, code reviews, etc. -- are publicly available. </p>\n",
    "<p>We're going to read in, clean up, and visualize the real world project repository of Scala that spans data from a version control system (Git) as well as a project hosting site (GitHub). We will find out who has had the most influence on its development and who are the experts.</p>\n",
    "<p>The dataset we will use, which has been previously mined and extracted from GitHub, is comprised of three files:</p>\n",
    "<ol>\n",
    "<li><code>pulls_2011-2013.csv</code> contains the basic information about the pull requests, and spans from the end of 2011 up to (but not including) 2014.</li>\n",
    "<li><code>pulls_2014-2018.csv</code> contains identical information, and spans from 2014 up to 2018.</li>\n",
    "<li><code>pull_files.csv</code> contains the files that were modified by each pull request.</li>\n",
    "</ol>"
   ]
  },
  {
   "cell_type": "code",
   "execution_count": 16,
   "metadata": {
    "dc": {
     "key": "5"
    },
    "tags": [
     "sample_code"
    ]
   },
   "outputs": [],
   "source": [
    "# Importing libraries\n",
    "import numpy as n\n",
    "import pandas as pd\n",
    "\n",
    "# ... YOUR CODE FOR TASK 1 ...\n",
    "\n",
    "# Loading in the data\n",
    "pulls_one = pd.read_csv('datasets/pulls_2011-2013.csv')\n",
    "pulls_two = pd.read_csv('datasets/pulls_2014-2018.csv')\n",
    "pull_files = pd.read_csv('datasets/pull_files.csv') "
   ]
  },
  {
   "cell_type": "code",
   "execution_count": 17,
   "metadata": {
    "dc": {
     "key": "5"
    }
   },
   "outputs": [
    {
     "name": "stdout",
     "output_type": "stream",
     "text": [
      "          pid          user                  date\n",
      "1944  2389268       xeno-by  2012-09-19T16:44:40Z\n",
      "352   8410064         paulp  2013-09-18T07:11:16Z\n",
      "1147  4286858       xeno-by  2013-02-23T01:39:21Z\n",
      "2599  1530572      retronym  2012-06-10T07:45:02Z\n",
      "310   8683820         paulp  2013-09-28T15:15:38Z\n",
      "1847  2529525  gkossakowski  2012-10-03T14:39:35Z\n",
      "1257  3946470        dragos  2013-02-01T13:36:56Z\n",
      "870   5338375      retronym  2013-04-24T10:04:38Z \n",
      "             pid             user                  date\n",
      "305   127543532        SethTisue  2017-06-26T19:18:57Z\n",
      "239   134426244  martijnhoekstra  2017-08-07T12:26:44Z\n",
      "2636   13047527            densh  2014-02-28T11:45:48Z\n",
      "1831   32758360           kubudi  2015-04-07T12:19:41Z\n",
      "1360   56113843          Ichoran  2016-01-15T00:11:20Z\n",
      "1479   46803657      VladimirNik  2015-10-05T16:36:38Z\n",
      "695    95989312        SethTisue  2016-11-30T22:42:02Z\n",
      "2527   15423066            lrytz  2014-05-02T08:27:13Z \n",
      "              pid                                               file\n",
      "57493    3479515  test/files/neg/macro-invalidusage-expands-to-w...\n",
      "77164    1515332  src/library/scala/collection/convert/Wrappers....\n",
      "81076    1164069      src/library/scala/collection/GenSeqLike.scala\n",
      "64635    2473824  src/reflect/scala/reflect/runtime/Synchronized...\n",
      "67309    2348485                src/actors/scala/actors/Actor.scala\n",
      "40947    7745709  src/continuations/plugin/scala/tools/selective...\n",
      "4145   114495846          src/compiler/scala/tools/nsc/Global.scala\n",
      "16716   49467281   src/library/scala/collection/SortedSetLike.scala\n"
     ]
    }
   ],
   "source": [
    "print(pulls_one.sample(8),'\\n',pulls_two.sample(8),'\\n',pull_files.sample(8))"
   ]
  },
  {
   "cell_type": "code",
   "execution_count": 18,
   "metadata": {
    "dc": {
     "key": "5"
    },
    "hide": true,
    "tags": [
     "tests"
    ]
   },
   "outputs": [
    {
     "data": {
      "application/json": "{\"success\": true, \"summary\": {\"tests\": 3, \"failures\": 0, \"errors\": 0}, \"tests\": [{\"name\": \"__main__.test_pulls_one\", \"success\": true, \"message\": \"\"}, {\"name\": \"__main__.test_pulls_two\", \"success\": true, \"message\": \"\"}, {\"name\": \"__main__.test_pull_files\", \"success\": true, \"message\": \"\"}]}"
     },
     "metadata": {},
     "output_type": "display_data"
    },
    {
     "data": {
      "text/plain": [
       "3/3 tests passed\n"
      ]
     },
     "execution_count": 18,
     "metadata": {},
     "output_type": "execute_result"
    }
   ],
   "source": [
    "%%nose\n",
    "\n",
    "import pandas as pd\n",
    "\n",
    "def test_pulls_one():\n",
    "    correct_pulls_one = pd.read_csv('datasets/pulls_2011-2013.csv')\n",
    "    assert correct_pulls_one.equals(pulls_one), \\\n",
    "    \"Read in 'datasets/pulls_2011-2013.csv' using read_csv().\"\n",
    "\n",
    "def test_pulls_two():\n",
    "    correct_pulls_two = pd.read_csv('datasets/pulls_2014-2018.csv')\n",
    "    assert correct_pulls_two.equals(pulls_two), \\\n",
    "   \"Read in 'datasets/pulls_2014-2018.csv' using read_csv().\"\n",
    "    \n",
    "def test_pull_files():\n",
    "    correct_pull_files = pd.read_csv('datasets/pull_files.csv')\n",
    "    assert correct_pull_files.equals(pull_files), \\\n",
    "    \"Read in 'pull_files.csv' using read_csv().\""
   ]
  },
  {
   "cell_type": "markdown",
   "metadata": {
    "dc": {
     "key": "12"
    },
    "deletable": false,
    "editable": false,
    "run_control": {
     "frozen": true
    },
    "tags": [
     "context"
    ]
   },
   "source": [
    "## 2. Preparing and cleaning the data\n",
    "<p>First, we will need to combine the data from the two separate pull DataFrames. </p>\n",
    "<p>Next, the raw data extracted from GitHub contains dates in the ISO8601 format. However, <code>pandas</code> imports them as regular strings. To make our analysis easier, we need to convert the strings into Python's <code>DateTime</code> objects. <code>DateTime</code> objects have the important property that they can be compared and sorted.</p>\n",
    "<p>The pull request times are all in UTC (also known as Coordinated Universal Time). The commit times, however, are in the local time of the author with time zone information (number of hours difference from UTC). To make comparisons easy, we should convert all times to UTC.</p>"
   ]
  },
  {
   "cell_type": "code",
   "execution_count": 19,
   "metadata": {
    "dc": {
     "key": "12"
    },
    "tags": [
     "sample_code"
    ]
   },
   "outputs": [
    {
     "name": "stdout",
     "output_type": "stream",
     "text": [
      "            pid       user                      date\n",
      "576   105829568   retronym 2017-02-13 04:57:29+00:00\n",
      "128    10244931   retronym 2013-11-24 21:29:57+00:00\n",
      "2347   18761529   retronym 2014-07-23 08:06:22+00:00\n",
      "552   106763319     dragos 2017-02-17 16:15:21+00:00\n",
      "2513   15604962  som-snytt 2014-05-07 16:20:48+00:00\n",
      "860    85623996     rjolly 2016-09-16 19:06:16+00:00\n",
      "1740    2866959    phaller 2012-11-02 18:09:05+00:00\n",
      "1712    2923216       Atry 2012-11-08 01:42:54+00:00\n"
     ]
    }
   ],
   "source": [
    "# Append pulls_one to pulls_two\n",
    "pulls = pulls_one.append(pulls_two)\n",
    "\n",
    "# Convert the date for the pulls object\n",
    "pulls['date'] = pd.to_datetime(pulls['date'],utc='true')\n",
    "\n",
    "print(pulls.sample(8))"
   ]
  },
  {
   "cell_type": "code",
   "execution_count": 20,
   "metadata": {
    "dc": {
     "key": "12"
    },
    "hide": true,
    "tags": [
     "tests"
    ]
   },
   "outputs": [
    {
     "data": {
      "application/json": "{\"success\": true, \"summary\": {\"tests\": 2, \"failures\": 0, \"errors\": 0}, \"tests\": [{\"name\": \"__main__.test_pulls_length\", \"success\": true, \"message\": \"\"}, {\"name\": \"__main__.test_pulls_type\", \"success\": true, \"message\": \"\"}]}"
     },
     "metadata": {},
     "output_type": "display_data"
    },
    {
     "data": {
      "text/plain": [
       "2/2 tests passed\n"
      ]
     },
     "execution_count": 20,
     "metadata": {},
     "output_type": "execute_result"
    }
   ],
   "source": [
    "%%nose\n",
    "\n",
    "# one or more tests of the students code. \n",
    "# The @solution should pass the tests.\n",
    "# The purpose of the tests is to try to catch common errors and to \n",
    "# give the student a hint on how to resolve these errors.\n",
    "\n",
    "def test_pulls_length():\n",
    "    assert len(pulls) == 6200, \\\n",
    "    'The DataFrame pulls does not have the correct number of rows. Did you correctly append pulls_one to pulls_two?'\n",
    "\n",
    "def test_pulls_type():\n",
    "    assert type(pulls['date'].dtype) is pd.core.dtypes.dtypes.DatetimeTZDtype, \\\n",
    "    'The date for the pull requests is not the correct type.'"
   ]
  },
  {
   "cell_type": "markdown",
   "metadata": {
    "dc": {
     "key": "19"
    },
    "deletable": false,
    "editable": false,
    "run_control": {
     "frozen": true
    },
    "tags": [
     "context"
    ]
   },
   "source": [
    "## 3. Merging the DataFrames\n",
    "<p>The data extracted comes in two separate files. Merging the two DataFrames will make it easier for us to analyze the data in the future tasks.</p>"
   ]
  },
  {
   "cell_type": "code",
   "execution_count": 21,
   "metadata": {
    "dc": {
     "key": "19"
    },
    "tags": [
     "sample_code"
    ]
   },
   "outputs": [
    {
     "name": "stdout",
     "output_type": "stream",
     "text": [
      "             pid       user                      date                                               file\n",
      "6321     7983954      densh 2013-08-30 13:19:36+00:00     src/reflect/scala/reflect/internal/Trees.scala\n",
      "42289    1536620   jsuereth 2012-06-11 16:15:11+00:00                                          build.xml\n",
      "34705    2213129      paulp 2012-08-31 01:27:30+00:00       test/files/run/reflection-sorted-decls.scala\n",
      "74981   32426803      lrytz 2015-04-01 14:57:15+00:00             test/files/neg/t7848-interp-warn.scala\n",
      "72581   38138208      lrytz 2015-06-19 19:08:49+00:00  src/compiler/scala/tools/nsc/symtab/classfile/...\n",
      "15571    4656383  som-snytt 2013-03-17 05:05:36+00:00  src/compiler/scala/tools/nsc/typechecker/TreeC...\n",
      "77657   25015544   dickwall 2014-11-25 15:28:11+00:00  src/scaladoc/scala/tools/nsc/doc/html/resource...\n",
      "57151  109330349  SethTisue 2017-03-06 19:28:54+00:00  test/junit/scala/reflect/internal/NamesTest.scala\n"
     ]
    }
   ],
   "source": [
    "# Merge the two DataFrames\n",
    "data = pulls.merge(pull_files,on='pid')\n",
    "\n",
    "print(data.sample(8))"
   ]
  },
  {
   "cell_type": "code",
   "execution_count": 22,
   "metadata": {
    "dc": {
     "key": "19"
    },
    "hide": true,
    "tags": [
     "tests"
    ]
   },
   "outputs": [
    {
     "data": {
      "application/json": "{\"success\": true, \"summary\": {\"tests\": 2, \"failures\": 0, \"errors\": 0}, \"tests\": [{\"name\": \"__main__.test_merge\", \"success\": true, \"message\": \"\"}, {\"name\": \"__main__.test_merge_dataframes\", \"success\": true, \"message\": \"\"}]}"
     },
     "metadata": {},
     "output_type": "display_data"
    },
    {
     "data": {
      "text/plain": [
       "2/2 tests passed\n"
      ]
     },
     "execution_count": 22,
     "metadata": {},
     "output_type": "execute_result"
    }
   ],
   "source": [
    "%%nose\n",
    "\n",
    "# one or more tests of the students code. \n",
    "# The @solution should pass the tests.\n",
    "# The purpose of the tests is to try to catch common errors and to \n",
    "# give the student a hint on how to resolve these errors.\n",
    "\n",
    "def test_merge():\n",
    "    assert len(data) == 85588, \\\n",
    "    'The merged DataFrame does not have the correct number of rows.'\n",
    "\n",
    "def test_merge_dataframes():\n",
    "    correct_data = pulls.merge(pull_files, on='pid')\n",
    "    also_correct_data = pull_files.merge(pulls, on='pid')\n",
    "    assert correct_data.equals(data) or \\\n",
    "        also_correct_data.equals(data), \\\n",
    "        \"The DataFrames are not merged correctly.\"        "
   ]
  },
  {
   "cell_type": "markdown",
   "metadata": {
    "dc": {
     "key": "26"
    },
    "deletable": false,
    "editable": false,
    "run_control": {
     "frozen": true
    },
    "tags": [
     "context"
    ]
   },
   "source": [
    "## 4. Is the project still actively maintained?\n",
    "<p>The activity in an open source project is not very consistent. Some projects might be active for many years after the initial release, while others can slowly taper out into oblivion. Before committing to contributing to a project, it is important to understand the state of the project. Is development going steadily, or is there a drop? Has the project been abandoned altogether?</p>\n",
    "<p>The data used in this project was collected in January of 2018. We are interested in the evolution of the number of contributions up to that date.</p>\n",
    "<p>For Scala, we will do this by plotting a chart of the project's activity. We will calculate the number of pull requests submitted each (calendar) month during the project's lifetime. We will then plot these numbers to see the trend of contributions.</p>\n",
    "<ul>\n",
    "<li><p>A helpful reminder of how to access various components of a date can be found in <a href=\"https://campus.datacamp.com/courses/data-manipulation-with-pandas/slicing-and-indexing?ex=12\">this exercise of Data Manipulation with pandas</a></p></li>\n",
    "<li><p>Additionally, recall that you can group by multiple variables by passing a list to <code>.groupby()</code>. This video from <a href=\"https://campus.datacamp.com/courses/data-manipulation-with-pandas/aggregating-dataframes?ex=9\">Data Manipulation with pandas</a> should help!</p></li>\n",
    "</ul>"
   ]
  },
  {
   "cell_type": "code",
   "execution_count": 23,
   "metadata": {
    "dc": {
     "key": "26"
    },
    "tags": [
     "sample_code"
    ]
   },
   "outputs": [
    {
     "name": "stdout",
     "output_type": "stream",
     "text": [
      "             pid        user                      date                                               file  month  year\n",
      "79653   20618558       lrytz 2014-09-02 15:06:34+00:00  src/jline/src/test/java/scala/tools/jline/exam...      9  2014\n",
      "22916    3507671     xeno-by 2012-12-30 00:26:42+00:00  test/files/run/macro-def-infer-return-type-typ...     12  2012\n",
      "26119    3109252     Johnlon 2012-11-23 19:45:57+00:00  src/compiler/scala/tools/nsc/reporters/Abstrac...     11  2012\n",
      "33807    2345299     xeno-by 2012-09-14 15:19:02+00:00              test/files/run/reify_copypaste1.scala      9  2012\n",
      "52600  143475413    adriaanm 2017-09-27 19:08:17+00:00               test/files/neg/t10270/Macros_1.scala      9  2017\n",
      "2639     9868001    adriaanm 2013-11-12 02:14:03+00:00  test/files/run/macro-expand-implicit-macro-is-...     11  2013\n",
      "8800     6795060   SethTisue 2013-07-09 01:23:58+00:00            src/library/scala/math/BigDecimal.scala      7  2013\n",
      "66852   56283237  grimreaper 2016-01-17 18:01:39+00:00  src/compiler/scala/tools/nsc/transform/Constru...      1  2016 \n",
      "\n",
      "year  month\n",
      "2011  12        590\n",
      "2012  1         489\n",
      "      2         787\n",
      "      3         880\n",
      "      4        3354\n",
      "      5        1293\n",
      "      6        2438\n",
      "      7        3242\n",
      "Name: pid, dtype: int64 \n",
      "\n"
     ]
    },
    {
     "data": {
      "text/plain": [
       "<AxesSubplot:xlabel='year,month'>"
      ]
     },
     "execution_count": 23,
     "metadata": {},
     "output_type": "execute_result"
    },
    {
     "data": {
      "image/png": "[encoded data removed]",
      "text/plain": [
       "<Figure size 864x288 with 1 Axes>"
      ]
     },
     "metadata": {
      "needs_background": "light"
     },
     "output_type": "display_data"
    }
   ],
   "source": [
    "%matplotlib inline\n",
    "\n",
    "# Create a column that will store the month\n",
    "data['month'] = data['date'].dt.month\n",
    "\n",
    "# Create a column that will store the year\n",
    "data['year'] = data['date'].dt.year\n",
    "\n",
    "print(data.sample(8),'\\n')\n",
    "\n",
    "# Group by the month and year and count the pull requests\n",
    "counts = data.groupby(['year','month'])['pid'].count()\n",
    "\n",
    "print(counts.head(8),'\\n')\n",
    "\n",
    "# Plot the results\n",
    "counts.plot(kind='bar', figsize = (12,4))"
   ]
  },
  {
   "cell_type": "code",
   "execution_count": 24,
   "metadata": {
    "dc": {
     "key": "26"
    },
    "hide": true,
    "tags": [
     "tests"
    ]
   },
   "outputs": [
    {
     "data": {
      "application/json": "{\"success\": true, \"summary\": {\"tests\": 1, \"failures\": 0, \"errors\": 0}, \"tests\": [{\"name\": \"__main__.test_group_and_count\", \"success\": true, \"message\": \"\"}]}"
     },
     "metadata": {},
     "output_type": "display_data"
    },
    {
     "data": {
      "text/plain": [
       "1/1 tests passed\n"
      ]
     },
     "execution_count": 24,
     "metadata": {},
     "output_type": "execute_result"
    }
   ],
   "source": [
    "%%nose\n",
    "    \n",
    "def test_group_and_count():\n",
    "    assert len(counts) == 74, \\\n",
    "    \"The data was not grouped correctly. The history only spans 74 months.\""
   ]
  },
  {
   "cell_type": "markdown",
   "metadata": {
    "dc": {
     "key": "33"
    },
    "deletable": false,
    "editable": false,
    "run_control": {
     "frozen": true
    },
    "tags": [
     "context"
    ]
   },
   "source": [
    "## 5. Is there camaraderie in the project?\n",
    "<p>The organizational structure varies from one project to another, and it can influence your success as a contributor. A project that has a very small community might not be the best one to start working on. The small community might indicate a high barrier of entry. This can be caused by several factors, including a community that is reluctant to accept pull requests from \"outsiders,\" that the code base is hard to work with, etc. However, a large community can serve as an indicator that the project is regularly accepting pull requests from new contributors. Such a project would be a good place to start.</p>\n",
    "<p>In order to evaluate the dynamics of the community, we will plot a histogram of the number of pull requests submitted by each user. A distribution that shows that there are few people that only contribute a small number of pull requests can be used as in indicator that the project is not welcoming of new contributors. </p>"
   ]
  },
  {
   "cell_type": "code",
   "execution_count": 25,
   "metadata": {
    "dc": {
     "key": "33"
    },
    "tags": [
     "sample_code"
    ]
   },
   "outputs": [
    {
     "name": "stdout",
     "output_type": "stream",
     "text": [
      "            pid\n",
      "user           \n",
      "retronym   1030\n",
      "xeno-by     477\n",
      "adriaanm    474\n",
      "paulp       440\n",
      "som-snytt   376\n",
      "lrytz       334\n",
      "soc         238\n",
      "SethTisue   136\n"
     ]
    },
    {
     "data": {
      "text/plain": [
       "array([[<AxesSubplot:title={'center':'pid'}>]], dtype=object)"
      ]
     },
     "execution_count": 25,
     "metadata": {},
     "output_type": "execute_result"
    },
    {
     "data": {
      "image/png": "[encoded data removed]",
      "text/plain": [
       "<Figure size 432x288 with 1 Axes>"
      ]
     },
     "metadata": {
      "needs_background": "light"
     },
     "output_type": "display_data"
    }
   ],
   "source": [
    "# Required for matplotlib\n",
    "%matplotlib inline\n",
    "\n",
    "# Group by the submitter\n",
    "#by_user = data.groupby('user')['pid'].count()\n",
    "by_user = pulls.groupby('user').agg({'pid':'count'})\n",
    "\n",
    "print(by_user.sort_values('pid',ascending=False).head(8))\n",
    "\n",
    "# Plot the histogram\n",
    "#by_user.plot(kind='bar', figsize = (12,4))\n",
    "by_user.hist()"
   ]
  },
  {
   "cell_type": "code",
   "execution_count": 26,
   "metadata": {
    "dc": {
     "key": "33"
    },
    "hide": true,
    "tags": [
     "tests"
    ]
   },
   "outputs": [
    {
     "data": {
      "application/json": "{\"success\": true, \"summary\": {\"tests\": 1, \"failures\": 0, \"errors\": 0}, \"tests\": [{\"name\": \"__main__.test_by_user\", \"success\": true, \"message\": \"\"}]}"
     },
     "metadata": {},
     "output_type": "display_data"
    },
    {
     "data": {
      "text/plain": [
       "1/1 tests passed\n"
      ]
     },
     "execution_count": 26,
     "metadata": {},
     "output_type": "execute_result"
    }
   ],
   "source": [
    "%%nose\n",
    "\n",
    "# one or more tests of the students code. \n",
    "# The @solution should pass the tests.\n",
    "# The purpose of the tests is to try to catch common errors and to \n",
    "# give the student a hint on how to resolve these errors.\n",
    "\n",
    "def test_by_user():\n",
    "    assert len(by_user) == 467 or len(by_user) == 464, \\\n",
    "    'The grouping by user is not correct'"
   ]
  },
  {
   "cell_type": "markdown",
   "metadata": {
    "dc": {
     "key": "40"
    },
    "deletable": false,
    "editable": false,
    "run_control": {
     "frozen": true
    },
    "tags": [
     "context"
    ]
   },
   "source": [
    "## 6. What files were changed in the last ten pull requests?\n",
    "<p>Choosing the right place to make a contribution is as important as choosing the project to contribute to. Some parts of the code might be stable, some might be dead. Contributing there might not have the most impact. Therefore it is important to understand the parts of the system that have been recently changed. This allows us to pinpoint the \"hot\" areas of the code where most of the activity is happening. Focusing on those parts might not the most effective use of our times.</p>"
   ]
  },
  {
   "cell_type": "code",
   "execution_count": 27,
   "metadata": {
    "dc": {
     "key": "40"
    },
    "tags": [
     "sample_code"
    ]
   },
   "outputs": [
    {
     "name": "stdout",
     "output_type": "stream",
     "text": [
      "         pid         user                      date\n",
      "0  163314316       hrhino 2018-01-16 23:29:16+00:00\n",
      "1  163061502     joroKr21 2018-01-15 23:44:52+00:00\n",
      "2  163057333    mkeskells 2018-01-15 23:05:06+00:00\n",
      "3  162985594        lrytz 2018-01-15 15:52:39+00:00\n",
      "4  162838837    zuvizudar 2018-01-14 19:16:16+00:00\n",
      "5  162765232  howtonotwin 2018-01-13 04:37:17+00:00\n",
      "6  162643301       hrhino 2018-01-12 14:29:49+00:00\n",
      "7  162256029    mkeskells 2018-01-10 23:20:03+00:00\n",
      "8  162197834    SethTisue 2018-01-10 18:31:25+00:00\n",
      "9  162011899     joroKr21 2018-01-10 00:45:57+00:00 \n",
      "Shape:  (10, 3) \n",
      "\n",
      "             pid                                               file\n",
      "57507    3479515  test/files/neg/macro-invalidusage-presuper-typ...\n",
      "17105   48576155                         test/files/run/t3509.flags\n",
      "6943   100787934  src/compiler/scala/tools/nsc/transform/Constru...\n",
      "40210    8161201  src/partest/scala/tools/partest/nest/FileManag...\n",
      "34140   11245823  src/compiler/scala/tools/nsc/ast/parser/Parser...\n",
      "47962    5026775  src/compiler/scala/reflect/reify/codegen/GenTr...\n",
      "44172    5907530           test/files/run/compiler-asSeenFrom.scala\n",
      "61920    2885829  src/compiler/scala/tools/nsc/ast/parser/Symbol... \n",
      "Shape:  (85588, 2) \n",
      "\n",
      "          pid       user                      date                                               file\n",
      "27  162197834  SethTisue 2018-01-10 18:31:25+00:00                                    doc/License.rtf\n",
      "21  162643301     hrhino 2018-01-12 14:29:49+00:00               test/files/pos/t10568/Converter.java\n",
      "9   163057333  mkeskells 2018-01-15 23:05:06+00:00  src/compiler/scala/tools/nsc/profile/Profiler....\n",
      "25  162197834  SethTisue 2018-01-10 18:31:25+00:00                                            LICENSE\n",
      "6   163314316     hrhino 2018-01-16 23:29:16+00:00                    test/files/run/t8348/Test.scala\n",
      "4   163314316     hrhino 2018-01-16 23:29:16+00:00              test/files/run/t8348/TableColumn.java\n",
      "24  162256029  mkeskells 2018-01-10 23:20:03+00:00  src/compiler/scala/tools/nsc/backend/jvm/analy...\n",
      "3   163314316     hrhino 2018-01-16 23:29:16+00:00                         test/files/run/t8348.check \n",
      "Shape:  (34, 4) \n",
      "\n",
      "['test/files/pos/t5638/Among.java' 'test/files/pos/t5638/Usage.scala'\n",
      " 'test/files/pos/t9291.scala' 'test/files/run/t8348.check'\n",
      " 'test/files/run/t8348/TableColumn.java'\n",
      " 'test/files/run/t8348/TableColumnImpl.java'\n",
      " 'test/files/run/t8348/Test.scala'\n",
      " 'src/library/scala/concurrent/Lock.scala'\n",
      " 'src/compiler/scala/tools/nsc/profile/AsyncHelper.scala'\n",
      " 'src/compiler/scala/tools/nsc/profile/Profiler.scala'\n",
      " 'src/compiler/scala/tools/nsc/backend/jvm/BCodeHelpers.scala'\n",
      " 'src/compiler/scala/tools/nsc/symtab/classfile/ClassfileParser.scala'\n",
      " 'src/reflect/scala/reflect/internal/pickling/ByteCodecs.scala'\n",
      " 'src/compiler/scala/reflect/reify/phases/Calculate.scala'\n",
      " 'src/library/scala/Predef.scala' 'test/files/neg/leibniz-liskov.check'\n",
      " 'test/files/neg/leibniz-liskov.scala'\n",
      " 'test/files/pos/leibniz-liskov.scala'\n",
      " 'test/files/pos/leibniz_liskov.scala'\n",
      " 'src/compiler/scala/tools/nsc/typechecker/Contexts.scala'\n",
      " 'test/files/pos/parallel-classloader.scala'\n",
      " 'test/files/pos/t10568/Converter.java' 'test/files/pos/t10568/Impl.scala'\n",
      " 'src/compiler/scala/tools/nsc/backend/jvm/PostProcessor.scala'\n",
      " 'src/compiler/scala/tools/nsc/backend/jvm/analysis/BackendUtils.scala'\n",
      " 'LICENSE' 'doc/LICENSE.md' 'doc/License.rtf' 'project/VersionUtil.scala'\n",
      " 'src/library/scala/util/Properties.scala'\n",
      " 'src/scaladoc/scala/tools/nsc/doc/html/page/Entity.scala'\n",
      " 'src/scalap/decoder.properties'\n",
      " 'src/reflect/scala/reflect/internal/tpe/GlbLubs.scala'\n",
      " 'test/files/pos/t10686.scala']\n"
     ]
    }
   ],
   "source": [
    "# Identify the last 10 pull requests\n",
    "# df.nlargest(n, columns, keep='first')\n",
    "last_10 = pulls.nlargest(10,'date')\n",
    "\n",
    "# df.sort_values(columns, ascending=False).head(n)\n",
    "#last_10 = pulls.sort_values('date',ascending=False).head(10)\n",
    "\n",
    "print(last_10,'\\nShape: ',last_10.shape,'\\n')\n",
    "print(pull_files.sample(8),'\\nShape: ',pull_files.shape,'\\n')\n",
    "\n",
    "# Join the two data sets\n",
    "joined_pr = last_10.merge(pull_files,on='pid')\n",
    "\n",
    "print(joined_pr.sample(8),'\\nShape: ',joined_pr.shape,'\\n')\n",
    "\n",
    "# Identify the unique files\n",
    "files = joined_pr['file'].unique()\n",
    "#files = set(joined_pr['file'].unique())\n",
    "\n",
    "# Print the results\n",
    "print(files)"
   ]
  },
  {
   "cell_type": "code",
   "execution_count": 28,
   "metadata": {
    "dc": {
     "key": "40"
    },
    "hide": true,
    "tags": [
     "tests"
    ]
   },
   "outputs": [
    {
     "data": {
      "application/json": "{\"success\": true, \"summary\": {\"tests\": 3, \"failures\": 0, \"errors\": 0}, \"tests\": [{\"name\": \"__main__.test_last_10\", \"success\": true, \"message\": \"\"}, {\"name\": \"__main__.test_join\", \"success\": true, \"message\": \"\"}, {\"name\": \"__main__.test_no_files\", \"success\": true, \"message\": \"\"}]}"
     },
     "metadata": {},
     "output_type": "display_data"
    },
    {
     "data": {
      "text/plain": [
       "3/3 tests passed\n"
      ]
     },
     "execution_count": 28,
     "metadata": {},
     "output_type": "execute_result"
    }
   ],
   "source": [
    "%%nose\n",
    "\n",
    "# one or more tests of the students code. \n",
    "# The @solution should pass the tests.\n",
    "# The purpose of the tests is to try to catch common errors and to \n",
    "# give the student a hint on how to resolve these errors.\n",
    "\n",
    "def test_last_10():\n",
    "    assert len(last_10) == 10, \\\n",
    "    'You need to select the last 10 pull requests.'\n",
    "\n",
    "def test_join():\n",
    "    assert len(joined_pr) == 34, \\\n",
    "    'The join was not done correctly. You lost some pull requests in the process.'\n",
    "    \n",
    "def test_no_files():\n",
    "    assert len(files) == 34, \\\n",
    "    'You did not select the right number of pull requests.'"
   ]
  },
  {
   "cell_type": "markdown",
   "metadata": {
    "dc": {
     "key": "47"
    },
    "deletable": false,
    "editable": false,
    "run_control": {
     "frozen": true
    },
    "tags": [
     "context"
    ]
   },
   "source": [
    "## 7. Who made the most pull requests to a given file?\n",
    "<p>When contributing to a project, we might need some guidance. We might find ourselves needing some information regarding the codebase. It is important direct any questions to the right person. Contributors to open source projects generally have other day jobs, so their time is limited. It is important to address our questions to the right people. One way to identify the right target for our inquiries is by using their contribution history.</p>\n",
    "<p>We identified <code>src/compiler/scala/reflect/reify/phases/Calculate.scala</code> as being recently changed. We are interested in the top 3 developers who changed that file. Those developers are the ones most likely to have the best understanding of the code.</p>"
   ]
  },
  {
   "cell_type": "code",
   "execution_count": 29,
   "metadata": {
    "dc": {
     "key": "47"
    },
    "tags": [
     "sample_code"
    ]
   },
   "outputs": [
    {
     "name": "stdout",
     "output_type": "stream",
     "text": [
      "          pid  date  file  month  year\n",
      "user                                  \n",
      "xeno-by    11    11    11     11    11\n",
      "retronym    5     5     5      5     5\n",
      "soc         4     4     4      4     4\n"
     ]
    }
   ],
   "source": [
    "# This is the file we are interested in:\n",
    "file = 'src/compiler/scala/reflect/reify/phases/Calculate.scala'\n",
    "\n",
    "# Identify the commits that changed the file\n",
    "file_pr = data.query('file == \"src/compiler/scala/reflect/reify/phases/Calculate.scala\"')\n",
    "\n",
    "#print(file_pr.sample(8),'\\n')\n",
    "\n",
    "# Count the number of changes made by each developer\n",
    "author_counts = file_pr.groupby('user').agg('count').sort_values('pid',ascending=False)\n",
    "\n",
    "#print(author_counts,'\\n')\n",
    "\n",
    "# Print the top 3 developers\n",
    "print(author_counts.head(3))"
   ]
  },
  {
   "cell_type": "code",
   "execution_count": 30,
   "metadata": {
    "dc": {
     "key": "47"
    },
    "hide": true,
    "tags": [
     "tests"
    ]
   },
   "outputs": [
    {
     "data": {
      "application/json": "{\"success\": true, \"summary\": {\"tests\": 2, \"failures\": 0, \"errors\": 0}, \"tests\": [{\"name\": \"__main__.test_selecting_commits\", \"success\": true, \"message\": \"\"}, {\"name\": \"__main__.test_author_counts\", \"success\": true, \"message\": \"\"}]}"
     },
     "metadata": {},
     "output_type": "display_data"
    },
    {
     "data": {
      "text/plain": [
       "2/2 tests passed\n"
      ]
     },
     "execution_count": 30,
     "metadata": {},
     "output_type": "execute_result"
    }
   ],
   "source": [
    "%%nose\n",
    "\n",
    "# one or more tests of the students code. \n",
    "# The @solution should pass the tests.\n",
    "# The purpose of the tests is to try to catch common errors and to \n",
    "# give the student a hint on how to resolve these errors.\n",
    "\n",
    "def test_selecting_commits():\n",
    "    assert len(file_pr) == 30, \\\n",
    "    'You did not filter the data on the right file.'\n",
    "    \n",
    "def test_author_counts():\n",
    "    assert len(author_counts) == 11, \\\n",
    "    'The number of authors is not correct.'"
   ]
  },
  {
   "cell_type": "markdown",
   "metadata": {
    "dc": {
     "key": "54"
    },
    "deletable": false,
    "editable": false,
    "run_control": {
     "frozen": true
    },
    "tags": [
     "context"
    ]
   },
   "source": [
    "## 8. Who made the last ten pull requests on a given file?\n",
    "<p>Open source projects suffer from fluctuating membership. This makes the problem of finding the right person more challenging: the person has to be knowledgeable <em>and</em> still be involved in the project. A person that contributed a lot in the past might no longer be available (or willing) to help. To get a better understanding, we need to investigate the more recent history of that particular part of the system. </p>\n",
    "<p>Like in the previous task, we will look at the history of  <code>src/compiler/scala/reflect/reify/phases/Calculate.scala</code>.</p>"
   ]
  },
  {
   "cell_type": "code",
   "execution_count": 31,
   "metadata": {
    "dc": {
     "key": "54"
    },
    "tags": [
     "sample_code"
    ]
   },
   "outputs": [
    {
     "name": "stdout",
     "output_type": "stream",
     "text": [
      "        pid        user_x                    date_x                                               file  month  year        user_y                    date_y\n",
      "15  2071228       xeno-by 2012-08-15 23:41:59+00:00  src/compiler/scala/reflect/reify/phases/Calcul...      8  2012       xeno-by 2012-08-15 23:41:59+00:00\n",
      "14  2072662       xeno-by 2012-08-16 05:39:22+00:00  src/compiler/scala/reflect/reify/phases/Calcul...      8  2012       xeno-by 2012-08-16 05:39:22+00:00\n",
      "2   5291974  bjornregnell 2013-04-22 13:56:06+00:00  src/compiler/scala/reflect/reify/phases/Calcul...      4  2013  bjornregnell 2013-04-22 13:56:06+00:00\n",
      "22  1210959       xeno-by 2012-04-22 22:50:51+00:00  src/compiler/scala/reflect/reify/phases/Calcul...      4  2012       xeno-by 2012-04-22 22:50:51+00:00\n",
      "18  1522613       xeno-by 2012-06-08 13:22:10+00:00  src/compiler/scala/reflect/reify/phases/Calcul...      6  2012       xeno-by 2012-06-08 13:22:10+00:00\n",
      "9   3854688        melloc 2013-01-26 22:47:32+00:00  src/compiler/scala/reflect/reify/phases/Calcul...      1  2013        melloc 2013-01-26 22:47:32+00:00\n",
      "13  2089264         paulp 2012-08-17 16:15:26+00:00  src/compiler/scala/reflect/reify/phases/Calcul...      8  2012         paulp 2012-08-17 16:15:26+00:00\n",
      "17  1522783       xeno-by 2012-06-08 13:43:35+00:00  src/compiler/scala/reflect/reify/phases/Calcul...      6  2012       xeno-by 2012-06-08 13:43:35+00:00 \n",
      " (30, 8)\n"
     ]
    },
    {
     "data": {
      "text/plain": [
       "{'bjornregnell', 'retronym', 'soc', 'starblood', 'xeno-by', 'zuvizudar'}"
      ]
     },
     "execution_count": 31,
     "metadata": {},
     "output_type": "execute_result"
    }
   ],
   "source": [
    "file = 'src/compiler/scala/reflect/reify/phases/Calculate.scala'\n",
    "\n",
    "# Select the pull requests that changed the target file\n",
    "#file_pr = data.query('file == \"src/compiler/scala/reflect/reify/phases/Calculate.scala\"')\n",
    "file_pr = data[data['file'] == file]\n",
    "\n",
    "# Merge the obtained results with the pulls DataFrame\n",
    "joined_pr = file_pr.merge(pulls,on='pid')\n",
    "\n",
    "#joined_pr\n",
    "print(joined_pr.sample(8),'\\n',joined_pr.shape)\n",
    "\n",
    "# Find the users of the last 10 most recent pull requests\n",
    "#users_last_10 = joined_pr.sort_values('date_x',ascending=False).head(10)\n",
    "users_last_10 = set(joined_pr.nlargest(10,'date_x')['user_x'])\n",
    "\n",
    "# Printing the results\n",
    "users_last_10"
   ]
  },
  {
   "cell_type": "code",
   "execution_count": 32,
   "metadata": {
    "dc": {
     "key": "54"
    },
    "hide": true,
    "tags": [
     "tests"
    ]
   },
   "outputs": [
    {
     "data": {
      "application/json": "{\"success\": true, \"summary\": {\"tests\": 3, \"failures\": 0, \"errors\": 0}, \"tests\": [{\"name\": \"__main__.test_join\", \"success\": true, \"message\": \"\"}, {\"name\": \"__main__.test_file_pr\", \"success\": true, \"message\": \"\"}, {\"name\": \"__main__.test_last_10\", \"success\": true, \"message\": \"\"}]}"
     },
     "metadata": {},
     "output_type": "display_data"
    },
    {
     "data": {
      "text/plain": [
       "3/3 tests passed\n"
      ]
     },
     "execution_count": 32,
     "metadata": {},
     "output_type": "execute_result"
    }
   ],
   "source": [
    "%%nose\n",
    "\n",
    "# one or more tests of the students code. \n",
    "# The @solution should pass the tests.\n",
    "# The purpose of the tests is to try to catch common errors and to \n",
    "# give the student a hint on how to resolve these errors.\n",
    "\n",
    "def test_join():\n",
    "    assert len(joined_pr) == len(file_pr), \\\n",
    "    'The join was not done correctly. You lost some pull requests in the process.'\n",
    "    \n",
    "def test_file_pr():\n",
    "    assert len(joined_pr) == 30, \\\n",
    "    'The file does not have the correct number of pull requests.'\n",
    "    \n",
    "def test_last_10():\n",
    "    assert len(users_last_10) == 6, \\\n",
    "    'You did not select the right number of pull requests.'"
   ]
  },
  {
   "cell_type": "markdown",
   "metadata": {
    "dc": {
     "key": "61"
    },
    "deletable": false,
    "editable": false,
    "run_control": {
     "frozen": true
    },
    "tags": [
     "context"
    ]
   },
   "source": [
    "## 9. The pull requests of two special developers\n",
    "<p>Now that we have identified two potential contacts in the projects, we need to find the person who was most involved in the project in recent times. That person is most likely to answer our questions. For each calendar year, we are interested in understanding the number of pull requests the authors submitted. This will give us a high-level image of their contribution trend to the project.</p>"
   ]
  },
  {
   "cell_type": "code",
   "execution_count": 33,
   "metadata": {
    "dc": {
     "key": "61"
    },
    "tags": [
     "sample_code"
    ]
   },
   "outputs": [
    {
     "name": "stdout",
     "output_type": "stream",
     "text": [
      "           pid     user                      date  year\n",
      "1487   3477095  xeno-by 2012-12-25 01:01:21+00:00  2012\n",
      "788    5664926      soc 2013-05-12 21:48:15+00:00  2013\n",
      "1455   3558556      soc 2013-01-05 11:18:56+00:00  2013\n",
      "31    10963496      soc 2013-12-19 05:56:11+00:00  2013\n",
      "957    4981099      soc 2013-04-04 16:02:36+00:00  2013\n",
      "1690   2962309  xeno-by 2012-11-12 09:01:17+00:00  2012\n",
      "500    7522963  xeno-by 2013-08-10 13:33:46+00:00  2013\n",
      "901   82985469      soc 2016-08-27 11:22:35+00:00  2016 \n",
      "Shape:  (715, 4) \n",
      "\n",
      "      user  year  pid\n",
      "3      soc  2014   20\n",
      "5      soc  2016   21\n",
      "8  xeno-by  2013  123\n",
      "7  xeno-by  2012  271\n",
      "0      soc  2011   12\n",
      "1      soc  2012   44\n",
      "9  xeno-by  2014   60\n",
      "4      soc  2015   24 \n",
      "Shape:  (11, 3) \n",
      "\n",
      "user  soc  xeno-by\n",
      "year              \n",
      "2011   12       20\n",
      "2012   44      271\n",
      "2013  117      123\n",
      "2014   20       60\n",
      "2015   24        3\n",
      "2016   21        0\n"
     ]
    },
    {
     "data": {
      "text/plain": [
       "<AxesSubplot:xlabel='year'>"
      ]
     },
     "execution_count": 33,
     "metadata": {},
     "output_type": "execute_result"
    },
    {
     "data": {
      "image/png": "[encoded data removed]",
      "text/plain": [
       "<Figure size 864x288 with 1 Axes>"
      ]
     },
     "metadata": {
      "needs_background": "light"
     },
     "output_type": "display_data"
    }
   ],
   "source": [
    "%matplotlib inline\n",
    "\n",
    "# The developers we are interested in\n",
    "authors = ['xeno-by', 'soc']\n",
    "\n",
    "# Get all the developers' pull requests\n",
    "by_author = pulls[pulls['user'].isin(authors)]\n",
    "\n",
    "by_author['year'] = by_author['date'].dt.year  \n",
    "\n",
    "print(by_author.sample(8),'\\nShape: ',by_author.shape,'\\n')\n",
    "\n",
    "# Count the number of pull requests submitted each year\n",
    "counts = by_author.groupby(['user','year']).agg({'pid': 'count'}).reset_index()\n",
    "\n",
    "print(counts.sample(8),'\\nShape: ',counts.shape,'\\n')\n",
    "\n",
    "# Convert the table to a wide format\n",
    "counts_wide = counts.pivot_table(index='year', columns='user', values='pid', fill_value=0)\n",
    "\n",
    "print(counts_wide)\n",
    "\n",
    "# Plot the results\n",
    "counts_wide.plot(kind='bar',figsize=(12,4))"
   ]
  },
  {
   "cell_type": "code",
   "execution_count": 34,
   "metadata": {
    "dc": {
     "key": "61"
    },
    "hide": true,
    "tags": [
     "tests"
    ]
   },
   "outputs": [
    {
     "data": {
      "application/json": "{\"success\": true, \"summary\": {\"tests\": 2, \"failures\": 0, \"errors\": 0}, \"tests\": [{\"name\": \"__main__.test_author_pr\", \"success\": true, \"message\": \"\"}, {\"name\": \"__main__.test_counts\", \"success\": true, \"message\": \"\"}]}"
     },
     "metadata": {},
     "output_type": "display_data"
    },
    {
     "data": {
      "text/plain": [
       "2/2 tests passed\n"
      ]
     },
     "execution_count": 34,
     "metadata": {},
     "output_type": "execute_result"
    }
   ],
   "source": [
    "%%nose\n",
    "\n",
    "# one or more tests of the students code. \n",
    "# The @solution should pass the tests.\n",
    "# The purpose of the tests is to try to catch common errors and to \n",
    "# give the student a hint on how to resolve these errors.\n",
    "\n",
    "def test_author_pr():\n",
    "    assert len(by_author) == 715, \\\n",
    "    \"The wrong number of pull requests have been selected.\"\n",
    "    \n",
    "def test_counts():\n",
    "    assert len(counts) == 11, \\\n",
    "    'The data should span 6 years.'"
   ]
  },
  {
   "cell_type": "markdown",
   "metadata": {
    "dc": {
     "key": "68"
    },
    "deletable": false,
    "editable": false,
    "run_control": {
     "frozen": true
    },
    "tags": [
     "context"
    ]
   },
   "source": [
    "## 10. Visualizing the contributions of each developer\n",
    "<p>As mentioned before, it is important to make a distinction between the global expertise and contribution levels and the contribution levels at a more granular level (file, submodule, etc.) In our case, we want to see which of our two developers of interest have the most experience with the code in a given file. We will measure experience by the number of pull requests submitted that affect that file and how recent those pull requests were submitted.</p>"
   ]
  },
  {
   "cell_type": "code",
   "execution_count": 35,
   "metadata": {
    "dc": {
     "key": "68"
    },
    "tags": [
     "sample_code"
    ]
   },
   "outputs": [
    {
     "name": "stdout",
     "output_type": "stream",
     "text": [
      "data:\n",
      "             pid        user                      date                                               file  month  year\n",
      "47850   1150233     xeno-by 2012-04-12 10:25:43+00:00  test/files/neg/macro-deprecate-dont-touch-back...      4  2012\n",
      "34     11121557     xeno-by 2013-12-27 23:50:56+00:00                        test/files/neg/t8104b.check     12  2013\n",
      "66775  56283237  grimreaper 2016-01-17 18:01:39+00:00  src/compiler/scala/tools/nsc/ast/parser/TreeBu...      1  2016\n",
      "21574   3613177    adriaanm 2013-01-09 23:51:46+00:00                test/files/neg/t5189_inferred.scala      1  2013\n",
      "13667   5047369    adriaanm 2013-04-09 00:36:24+00:00  src/reflect/scala/reflect/internal/TreeInfo.scala      4  2013\n",
      "25467   3204207       paulp 2012-12-02 21:42:11+00:00  src/compiler/scala/tools/nsc/symtab/classfile/...     12  2012\n",
      "77700  24704361         soc 2014-11-19 17:12:48+00:00  src/compiler/scala/tools/nsc/javac/JavaParsers...     11  2014\n",
      "11596   5524603       paulp 2013-05-03 20:18:14+00:00     src/library/scala/collection/GenIterable.scala      5  2013 \n",
      "\n",
      "by_author:\n",
      "             pid     user                      date                                               file  month  year\n",
      "561    10679313  xeno-by 2013-12-10 10:17:10+00:00                         test/files/run/t5704.scala     12  2013\n",
      "68269  48689675      soc 2015-10-25 22:25:24+00:00       src/compiler/scala/tools/nsc/Reporting.scala     10  2015\n",
      "22852   3507671  xeno-by 2012-12-30 00:26:42+00:00  test/files/neg/macro-override-macro-overrides-...     12  2012\n",
      "20661   3726392      soc 2013-01-17 19:53:05+00:00     src/library/scala/concurrent/TaskRunners.scala      1  2013\n",
      "82266  14864767  xeno-by 2014-04-17 08:42:03+00:00  test/files/neg/macro-expand-varargs-a/Macros_1...      4  2014\n",
      "23227   3479515  xeno-by 2012-12-25 16:46:56+00:00  test/files/neg/macro-invalidusage-badargs-b/Im...     12  2012\n",
      "21183   3666971  xeno-by 2013-01-14 17:14:19+00:00  test/files/run/macro-expand-tparams-prefix-c2/...      1  2013\n",
      "6288    8005072  xeno-by 2013-08-31 19:52:42+00:00   test/files/run/macro-vampire-false-warning.check      8  2013 \n",
      "\n",
      "by_file:\n",
      "            pid     user                      date                                               file  month  year\n",
      "42404  1522783  xeno-by 2012-06-08 13:43:35+00:00  src/compiler/scala/reflect/reify/phases/Calcul...      6  2012\n",
      "18341  4019878      soc 2013-02-06 18:24:21+00:00  src/compiler/scala/reflect/reify/phases/Calcul...      2  2013\n",
      "43102  1482038  xeno-by 2012-06-03 18:01:36+00:00  src/compiler/scala/reflect/reify/phases/Calcul...      6  2012\n",
      "12514  5320191      soc 2013-04-23 15:47:45+00:00  src/compiler/scala/reflect/reify/phases/Calcul...      4  2013\n",
      "42712  1522613  xeno-by 2012-06-08 13:22:10+00:00  src/compiler/scala/reflect/reify/phases/Calcul...      6  2012\n",
      "36860  1984445      soc 2012-08-06 18:38:28+00:00  src/compiler/scala/reflect/reify/phases/Calcul...      8  2012\n",
      "43435  1482035  xeno-by 2012-06-03 18:00:39+00:00  src/compiler/scala/reflect/reify/phases/Calcul...      6  2012\n",
      "48016  1148013  xeno-by 2012-04-12 00:05:33+00:00  src/compiler/scala/reflect/reify/phases/Calcul...      4  2012 \n",
      "\n",
      "grouped:\n",
      "       user  date  pid\n",
      "0      soc  2012    2\n",
      "1      soc  2013    2\n",
      "2  xeno-by  2012   10\n",
      "3  xeno-by  2014    1 \n",
      "\n",
      "by_file_wide:\n",
      " user  soc  xeno-by\n",
      "date              \n",
      "2012    2       10\n",
      "2013    2        0\n",
      "2014    0        1 \n",
      "\n"
     ]
    },
    {
     "data": {
      "text/plain": [
       "<AxesSubplot:xlabel='date'>"
      ]
     },
     "execution_count": 35,
     "metadata": {},
     "output_type": "execute_result"
    },
    {
     "data": {
      "image/png": "[encoded data removed]",
      "text/plain": [
       "<Figure size 432x288 with 1 Axes>"
      ]
     },
     "metadata": {
      "needs_background": "light"
     },
     "output_type": "display_data"
    }
   ],
   "source": [
    "authors = ['xeno-by', 'soc']\n",
    "file = 'src/compiler/scala/reflect/reify/phases/Calculate.scala'\n",
    "\n",
    "print('data:\\n',data.sample(8),'\\n')\n",
    "\n",
    "# Select the pull requests submitted by the authors, from the `data` DataFrame\n",
    "by_author = data[data['user'].isin(authors)]\n",
    "\n",
    "print('by_author:\\n',by_author.sample(8),'\\n')\n",
    "\n",
    "# Select the pull requests that affect the file\n",
    "by_file = by_author[by_author['file'] == file]\n",
    "\n",
    "print('by_file:\\n',by_file.sample(8),'\\n')\n",
    "\n",
    "# Group and count the number of PRs done by each user each year\n",
    "grouped = by_file.groupby(['user', by_file['date'].dt.year]).count()['pid'].reset_index()\n",
    "\n",
    "print('grouped:\\n',grouped,'\\n')\n",
    "\n",
    "# Transform the data into a wide format\n",
    "by_file_wide = grouped.pivot_table(index='date', columns='user', values='pid', fill_value=0)\n",
    "\n",
    "print('by_file_wide:\\n',by_file_wide,'\\n')\n",
    "\n",
    "# Plot the results\n",
    "by_file_wide.plot(kind='bar')"
   ]
  },
  {
   "cell_type": "code",
   "execution_count": 36,
   "metadata": {
    "dc": {
     "key": "68"
    },
    "hide": true,
    "tags": [
     "tests"
    ]
   },
   "outputs": [
    {
     "data": {
      "application/json": "{\"success\": true, \"summary\": {\"tests\": 3, \"failures\": 0, \"errors\": 0}, \"tests\": [{\"name\": \"__main__.test_by_author\", \"success\": true, \"message\": \"\"}, {\"name\": \"__main__.test_by_file\", \"success\": true, \"message\": \"\"}, {\"name\": \"__main__.test_by_file_wide\", \"success\": true, \"message\": \"\"}]}"
     },
     "metadata": {},
     "output_type": "display_data"
    },
    {
     "data": {
      "text/plain": [
       "3/3 tests passed\n"
      ]
     },
     "execution_count": 36,
     "metadata": {},
     "output_type": "execute_result"
    }
   ],
   "source": [
    "%%nose\n",
    "\n",
    "# one or more tests of the students code. \n",
    "# The @solution should pass the tests.\n",
    "# The purpose of the tests is to try to catch common errors and to \n",
    "# give the student a hint on how to resolve these errors.\n",
    "\n",
    "def test_by_author():\n",
    "    assert len(by_author) == 16999, \\\n",
    "    'Selecting by author did not produce the expected results.'\n",
    "    \n",
    "def test_by_file():\n",
    "    assert len(by_file) == 15, \\\n",
    "    'Selecting by file did not produce the expected results.'\n",
    "    \n",
    "# def test_grouped():\n",
    "#     assert len(grouped) == 4, \\\n",
    "#     'There should be only 3 years that matches our data.'\n",
    "    \n",
    "def test_by_file_wide():\n",
    "    assert len(by_file_wide) == 3, \\\n",
    "    'There should be only 3 years that matches our data.'"
   ]
  }
 ],
 "metadata": {
  "kernelspec": {
   "display_name": "Python 3 (ipykernel)",
   "language": "python",
   "name": "python3"
  },
  "language_info": {
   "codemirror_mode": {
    "name": "ipython",
    "version": 3
   },
   "file_extension": ".py",
   "mimetype": "text/x-python",
   "name": "python",
   "nbconvert_exporter": "python",
   "pygments_lexer": "ipython3",
   "version": "3.10.5"
  }
 },
 "nbformat": 4,
 "nbformat_minor": 4
}
